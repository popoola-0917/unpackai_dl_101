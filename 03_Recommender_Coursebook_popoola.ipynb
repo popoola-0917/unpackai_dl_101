{
  "nbformat": 4,
  "nbformat_minor": 0,
  "metadata": {
    "colab": {
      "name": " 03_Recommender_Coursebook_popoola.ipynb",
      "provenance": [],
      "collapsed_sections": [],
      "include_colab_link": true
    },
    "kernelspec": {
      "name": "python3",
      "display_name": "Python 3"
    },
    "language_info": {
      "name": "python"
    }
  },
  "cells": [
    {
      "cell_type": "markdown",
      "metadata": {
        "id": "view-in-github",
        "colab_type": "text"
      },
      "source": [
        "<a href=\"https://colab.research.google.com/github/popoolaademola/unpackai_dl_101/blob/main/03_Recommender_Coursebook_popoola.ipynb\" target=\"_parent\"><img src=\"https://colab.research.google.com/assets/colab-badge.svg\" alt=\"Open In Colab\"/></a>"
      ]
    },
    {
      "cell_type": "markdown",
      "metadata": {
        "id": "lKD4puzFoQwm"
      },
      "source": [
        "#💻Welcome to Week 3 of the DL101 Bootcamp."
      ]
    },
    {
      "cell_type": "markdown",
      "metadata": {
        "id": "6yphiL0ln0sT"
      },
      "source": [
        "## A Dive Into Recommender Systems\n",
        "\n",
        "Recommender Systems are one of the Machine Learning Applications that have received the most spolight in the past few years, starting with TikTok with their Short-video Recommendation System to Amazon with their Product Recommendation System.\n",
        "\n",
        "Many great e-commerce companies could scale to multibillion companies because of their unique recommendation systems built-in to the core of their products.\n",
        "\n",
        "This week, we will dive further into how recommender systems work, and how they can be built!\n",
        "\n",
        "##📕 Learning Objectives\n",
        "* Learn about the different types of Recommender Systems\n",
        "* Understand the potential and limitations of collaborative filtering.\n",
        "* Dive into the world of latent factors and embeddings.\n",
        "\n",
        "\n",
        "## 📅 Weekly Progress\n",
        "\n",
        "|Week | Content | Learning Objectives|\n",
        "|:--- |:--- | :--- |\n",
        "|0 | Warm Up & Theory | Get to know more about your classmates, the mentors, and learn about the fundamental concepts of Machine Learning, how it works, its limitations, and potential.\n",
        "|1 |Computer Vision | Dive into Computer Vision, and learn about how machines are able to derive insights and make predictions from visual data. Build your own computer vision application, by gathering your own images and train your own model.\n",
        "|2 |Tabular Data | Comprehend how AI & Machine Learning can be applied to Tabular Data such as sales, marketing, or customer data, and learn how to deduce actionable insights for the future, and build your own classification or regression application.\n",
        "|**3** |**Recommender Systems** | **Learn more about Recommender Systems, and understand how TikTok, Youtube, and Netflix are able to recommend your next favorite piece of content. Choose a dataset to build your own model to predict and recommend.**\n",
        "|4 | Natural Language Processing (NLP) | Apply AI & Machine Learning to text, discover Language Models and go through the process of how an AI model is able to generate, summarize and classify text. Build your own NLP application to automatically generate movie reviews, or analyze sentiment.\n",
        "|5 | Practical AI for you & Graduation | Jump into a 1:1 mentorship session with our AI experts to define an AI project that solves a pain point in your organization, personal project, or life in general. Research, gather feedback, write an article and pitch your project to the class. Successfully graduate from the Bootcamp and receive your AI certification."
      ]
    },
    {
      "cell_type": "markdown",
      "metadata": {
        "id": "bxssGRmWohQ4"
      },
      "source": [
        "## Libraries and Dependencies needed for Recommender Systems"
      ]
    },
    {
      "cell_type": "markdown",
      "metadata": {
        "id": "wi9s_0cFpN0E"
      },
      "source": [
        "We are going import lots libraries and dependies among which few should look quite familiar:"
      ]
    },
    {
      "cell_type": "code",
      "metadata": {
        "id": "ydHMYMCoFvcn"
      },
      "source": [
        "!pip install -Uqq fastbook\n",
        "!pip install -Uqq unpackai"
      ],
      "execution_count": null,
      "outputs": []
    },
    {
      "cell_type": "markdown",
      "metadata": {
        "id": "LRSJ4Y9WpVDZ"
      },
      "source": [
        "Few lines of code below are needed to deal with collaborative filtering"
      ]
    },
    {
      "cell_type": "code",
      "metadata": {
        "id": "aLBHCp7uoBRY"
      },
      "source": [
        "from fastbook import *\n",
        "from fastai.collab import *\n",
        "from fastai.tabular.all import *"
      ],
      "execution_count": null,
      "outputs": []
    },
    {
      "cell_type": "markdown",
      "metadata": {
        "id": "SwiboY8YhnQN"
      },
      "source": [
        "# Introduction to Recommender Systems"
      ]
    },
    {
      "cell_type": "markdown",
      "metadata": {
        "id": "Lk0HGntdcuA0"
      },
      "source": [
        "Recommender Systems are a subclass of *information filtering systems* that seeks to predict the \"rating\" or \"preference\" a user would give to an item. With that, they are able to predict the next relevant item to the users of a certain product. Of thousands or millions of options, they *filter* and find the most relevant.\n",
        "\n",
        "In order to achieve that goal, there are three methods that have proven the best results.\n",
        "\n",
        "1. **Content-based filtering:** Content-based methods for recommender systems are methods that are based on the available “features” of an item (i.e. Movie A: main actor, release date, genre etc.) or user (i.e. age, gender, occupation etc.), explain the observed user-item interactions, and predict other possible matches. The reason this method is called content-based is because we need to understand the \"content\" of the item or user through the features.\n",
        "2. **Collaborative filtering:** Collaborative filtering methods for recommender systems are methods that are based solely on the past interactions recorded between users and items in order to produce new recommendations. Oppositely to the first approach, the actual content and features are unimportant.\n",
        "3. **Hybrid approach:** The hybrid approach combines elements of both the content-based filtering and the collaborative filtering approach to make up for the limitations of either method.\n",
        "\n",
        "<img src=\"https://github.com/unpackAI/DL101/raw/main/images/rec_RSoverview.png\" alt=\"styletransfer\" width=\"700\"/>\n",
        "\n",
        "In this section, we will be further introducing all three approaches, using the example of a movie recommendation system that provides recommendations on what movie the user should watch based on previous data.\n"
      ]
    },
    {
      "cell_type": "markdown",
      "metadata": {
        "id": "NpYZRlMYljNA"
      },
      "source": [
        "## Content-based Filtering"
      ]
    },
    {
      "cell_type": "markdown",
      "metadata": {
        "id": "Up3t4AtiuNOy"
      },
      "source": [
        "The idea of building a content-based filtering recommendation system is very similar to what we have learned when we focussed on tabular data. Based on our user-item interactions (i.e. what users watched what movies), our user profiles (i.e. age, gender, occupation) and movie profiles (i.e. release date, genre, length etc.) the recommendation problem is casted into either a classification problem (predict if a user “likes” or not a movie) or into a regression problem (predict the rating given by a user to a movie).\n",
        "\n",
        "We will be able to identify important features of specific movies, that are important to a certain group of people (e.g. young women tend to watch horror movies OR young men tend to watch action movies).\n",
        "\n",
        "<br>\n",
        "\n",
        "We can take a **user-centered approach**, which considers the features of the item to answer the question of:\n",
        "> *What is the probability for this user to like each movie?* (Classification Problem)\n",
        "\n",
        "> *What is the ranking given by this user to each movie?* (Regression Problem)\n",
        "\n",
        "This implies that whenever there is a new user, we can predict what movies he will or will not want to watch and how he would rate them.\n",
        "\n",
        "<br>\n",
        "\n",
        "We can also take an **item-centered approach**, which considers the features of the user to answer the question of: \n",
        "\n",
        "> *What is the probability for each user to like this item?* (Classification Problem)\n",
        "\n",
        ">*What is the ranking given by each user to this item?* (Regression Problem)\n",
        "\n",
        "This implies that whenever there is a new movie, we can predict what users would want to watch it and how they would possibly rate it.\n",
        "\n",
        "<br>\n",
        "\n",
        "Both approaches are illustrated below with the example of a classification problem, with an example dataset. Keep in mind that either approach has its trade-off."
      ]
    },
    {
      "cell_type": "markdown",
      "metadata": {
        "id": "gAyc7O_0m4fi"
      },
      "source": [
        "\n",
        "\n",
        "<img src=\"https://github.com/unpackAI/DL101/raw/main/images/rec_user_item.png\" alt=\"styletransfer\" width=\"700\"/>"
      ]
    },
    {
      "cell_type": "markdown",
      "metadata": {
        "id": "RDfdKxRT5CiM"
      },
      "source": [
        "From a practical point of view, we should underline that most of the time it is much more difficult to gather information of a user (users do not want to answer too much questions) than to retrieve information about a new movie (people adding them have an interest in filling these information in order to make their items recommended to the right users).\n",
        "\n",
        "Moreover, you should keep in mind that new users or movies with previously unseen features will logically suffer from content-filtering approach, but once the system is robust enough, this has few to no chance to happen.\n",
        "\n",
        "Thus far, it should have become clear that the content-filtering method heavily relies on its features (like any tabular data problem). Moreover, a lot of data pre-processing has to be done to make it work such as  removing missing data etc.\n",
        "\n",
        "The following method does NOT heavily depend on defined features and is totally fine with having missing values. How that works, we will explain in the following."
      ]
    },
    {
      "cell_type": "markdown",
      "metadata": {
        "id": "8PXJofPIlpaJ"
      },
      "source": [
        "## Collaborative Filtering"
      ]
    },
    {
      "cell_type": "markdown",
      "metadata": {
        "id": "t2OOYyzOhtXX"
      },
      "source": [
        "When approaching the same Recommender System problem with a collaborative filtering approach, the idea is a lot more simple. Instead of defining features accross users or features, we simply look at what movies the current user has watched or rated well, find other users that have watched or liked the same movies, and then recommend new movies the other users have watched or liked to the current user. Because it is solely based on the past interactions recorded between users and items (i.e. movies) in order to produce new recommendations, we essentially construct a network of all users and movies and can cluster and correctly assume the user's preferences based on their similarity to other users.\n",
        "\n",
        "For example, on Netflix you may have watched lots of movies that are science fiction, full of action, and were made in the 1970s. Netflix may not know these particular features of the films you have watched, but it will be able to see that other people that have watched the same movies that you watched also tended to watch other movies that are science fiction, full of action, and were made in the 1970s. In other words, to use this approach we don't necessarily need to know anything about the movies, except who like to watch them.\n",
        "\n",
        "The main advantage of collaborative approaches is that they require no information about users or items and, so, they can be used in many situations. Moreover, the more users interact with items the more new recommendations become accurate: for a fixed set of users and items, new interactions recorded over time bring new information and make the system more and more effective."
      ]
    },
    {
      "cell_type": "markdown",
      "metadata": {
        "id": "v3Cli2CurwQ8"
      },
      "source": [
        "<img src=\"https://github.com/unpackAI/DL101/raw/main/images/rec_netflixrecommender.png\" alt=\"styletransfer\" width=\"700\"/>"
      ]
    },
    {
      "cell_type": "markdown",
      "metadata": {
        "id": "cXE81hjKr0y1"
      },
      "source": [
        "However, as it only consider past interactions to make recommendations, collaborative filtering suffer from the **“cold start problem”**: it is impossible to recommend anything to new users or to recommend a new item to any users and many users or items have too few interactions to be efficiently handled. This drawback can be addressed in different ways:\n",
        "* recommending random items to new users or new items to random users (random strategy)\n",
        "* recommending popular items to new users or new items to most active users (maximum expectation strategy)\n",
        "* recommending a set of various items to new users or a new item to a set of various users (exploratory strategy)"
      ]
    },
    {
      "cell_type": "markdown",
      "metadata": {
        "id": "9zW52aO_q-VJ"
      },
      "source": [
        "## Hybrid approach\n",
        "\n",
        "The hybrid approach combines the collaborative filtering and content-based approach to achieve state-of-the-art results. Thus, they are the type of large scale recommender systems that you will encounter nowadays. This kind of hybrid approach can mainly take two forms: we can either train two models independently (one collaborative filtering model and one content based model) and combine their suggestions or directly build a single model (often a neural network) that unify both approaches by using as inputs prior information (about user and/or item) as well as “collaborative” interactions information."
      ]
    },
    {
      "cell_type": "markdown",
      "metadata": {
        "id": "UnnOo0y6sU9k"
      },
      "source": [
        "This week, we will build a movie recommendations system using the collaborative filtering approach and lead you through the key aspects and concepts."
      ]
    },
    {
      "cell_type": "markdown",
      "metadata": {
        "id": "CUoMooiSJoIH"
      },
      "source": [
        "## Collaborative Filtering Workflow"
      ]
    },
    {
      "cell_type": "markdown",
      "metadata": {
        "id": "bgXEZUulXW3U"
      },
      "source": [
        "Let's discuss how to we could possibly build the Recommender Systems through iterating over Machine Learning Workflow, which is our golden approach to developing machine learning applications."
      ]
    },
    {
      "cell_type": "code",
      "metadata": {
        "colab": {
          "base_uri": "https://localhost:8080/",
          "height": 127
        },
        "id": "Lwhn9swVLNCp",
        "cellView": "form",
        "outputId": "21a0e02e-1bb1-44be-d0a3-b1a88c90ed3c"
      },
      "source": [
        "#@title ML Workflow\n",
        "gv('''ordering=in\n",
        "problem[shape=box3d width=1 height=1 label=\"Define a \\n ML problem and \\n propose a solution\\n1\"]\n",
        "dataset[shape=box3d width=1 height=1 label=\"Collect and clean \\n your dataset\\n2\"]\n",
        "transform[shape=box3d width=1 height=1 label=\"Data\\n Transformation\\n3\"]\n",
        "train[shape=box3d width=1 height=1 label=\"Train \\n your model\\n4\"]\n",
        "predict[shape=box3d width=1 height=1 label=\"Model Interpretation \\n and Predictions\\n5\"]\n",
        "problem->dataset->transform->train->predict''')"
      ],
      "execution_count": null,
      "outputs": [
        {
          "output_type": "execute_result",
          "data": {
            "text/plain": [
              "<graphviz.files.Source at 0x7f3fab6b2b90>"
            ],
            "image/svg+xml": "<?xml version=\"1.0\" encoding=\"UTF-8\" standalone=\"no\"?>\n<!DOCTYPE svg PUBLIC \"-//W3C//DTD SVG 1.1//EN\"\n \"http://www.w3.org/Graphics/SVG/1.1/DTD/svg11.dtd\">\n<!-- Generated by graphviz version 2.40.1 (20161225.0304)\n -->\n<!-- Title: G Pages: 1 -->\n<svg width=\"730pt\" height=\"80pt\"\n viewBox=\"0.00 0.00 730.00 80.00\" xmlns=\"http://www.w3.org/2000/svg\" xmlns:xlink=\"http://www.w3.org/1999/xlink\">\n<g id=\"graph0\" class=\"graph\" transform=\"scale(1 1) rotate(0) translate(4 76)\">\n<title>G</title>\n<polygon fill=\"#ffffff\" stroke=\"transparent\" points=\"-4,4 -4,-76 726,-76 726,4 -4,4\"/>\n<!-- problem -->\n<g id=\"node1\" class=\"node\">\n<title>problem</title>\n<polygon fill=\"none\" stroke=\"#000000\" points=\"126,-72 4,-72 0,-68 0,0 122,0 126,-4 126,-72\"/>\n<polyline fill=\"none\" stroke=\"#000000\" points=\"122,-68 0,-68 \"/>\n<polyline fill=\"none\" stroke=\"#000000\" points=\"122,-68 122,0 \"/>\n<polyline fill=\"none\" stroke=\"#000000\" points=\"122,-68 126,-72 \"/>\n<text text-anchor=\"middle\" x=\"63\" y=\"-54.8\" font-family=\"Times,serif\" font-size=\"14.00\" fill=\"#000000\">Define a </text>\n<text text-anchor=\"middle\" x=\"63\" y=\"-39.8\" font-family=\"Times,serif\" font-size=\"14.00\" fill=\"#000000\"> ML problem and </text>\n<text text-anchor=\"middle\" x=\"63\" y=\"-24.8\" font-family=\"Times,serif\" font-size=\"14.00\" fill=\"#000000\"> propose a solution</text>\n<text text-anchor=\"middle\" x=\"63\" y=\"-9.8\" font-family=\"Times,serif\" font-size=\"14.00\" fill=\"#000000\">1</text>\n</g>\n<!-- dataset -->\n<g id=\"node2\" class=\"node\">\n<title>dataset</title>\n<polygon fill=\"none\" stroke=\"#000000\" points=\"281,-72 166,-72 162,-68 162,0 277,0 281,-4 281,-72\"/>\n<polyline fill=\"none\" stroke=\"#000000\" points=\"277,-68 162,-68 \"/>\n<polyline fill=\"none\" stroke=\"#000000\" points=\"277,-68 277,0 \"/>\n<polyline fill=\"none\" stroke=\"#000000\" points=\"277,-68 281,-72 \"/>\n<text text-anchor=\"middle\" x=\"221.5\" y=\"-47.3\" font-family=\"Times,serif\" font-size=\"14.00\" fill=\"#000000\">Collect and clean </text>\n<text text-anchor=\"middle\" x=\"221.5\" y=\"-32.3\" font-family=\"Times,serif\" font-size=\"14.00\" fill=\"#000000\"> your dataset</text>\n<text text-anchor=\"middle\" x=\"221.5\" y=\"-17.3\" font-family=\"Times,serif\" font-size=\"14.00\" fill=\"#000000\">2</text>\n</g>\n<!-- problem&#45;&gt;dataset -->\n<g id=\"edge1\" class=\"edge\">\n<title>problem&#45;&gt;dataset</title>\n<path fill=\"none\" stroke=\"#000000\" d=\"M126.0988,-36C134.5995,-36 143.3592,-36 151.9637,-36\"/>\n<polygon fill=\"#000000\" stroke=\"#000000\" points=\"151.9687,-39.5001 161.9687,-36 151.9686,-32.5001 151.9687,-39.5001\"/>\n</g>\n<!-- transform -->\n<g id=\"node3\" class=\"node\">\n<title>transform</title>\n<polygon fill=\"none\" stroke=\"#000000\" points=\"425,-72 321,-72 317,-68 317,0 421,0 425,-4 425,-72\"/>\n<polyline fill=\"none\" stroke=\"#000000\" points=\"421,-68 317,-68 \"/>\n<polyline fill=\"none\" stroke=\"#000000\" points=\"421,-68 421,0 \"/>\n<polyline fill=\"none\" stroke=\"#000000\" points=\"421,-68 425,-72 \"/>\n<text text-anchor=\"middle\" x=\"371\" y=\"-47.3\" font-family=\"Times,serif\" font-size=\"14.00\" fill=\"#000000\">Data</text>\n<text text-anchor=\"middle\" x=\"371\" y=\"-32.3\" font-family=\"Times,serif\" font-size=\"14.00\" fill=\"#000000\"> Transformation</text>\n<text text-anchor=\"middle\" x=\"371\" y=\"-17.3\" font-family=\"Times,serif\" font-size=\"14.00\" fill=\"#000000\">3</text>\n</g>\n<!-- dataset&#45;&gt;transform -->\n<g id=\"edge2\" class=\"edge\">\n<title>dataset&#45;&gt;transform</title>\n<path fill=\"none\" stroke=\"#000000\" d=\"M281.0159,-36C289.352,-36 297.9521,-36 306.3773,-36\"/>\n<polygon fill=\"#000000\" stroke=\"#000000\" points=\"306.5381,-39.5001 316.538,-36 306.538,-32.5001 306.5381,-39.5001\"/>\n</g>\n<!-- train -->\n<g id=\"node4\" class=\"node\">\n<title>train</title>\n<polygon fill=\"none\" stroke=\"#000000\" points=\"548,-72 465,-72 461,-68 461,0 544,0 548,-4 548,-72\"/>\n<polyline fill=\"none\" stroke=\"#000000\" points=\"544,-68 461,-68 \"/>\n<polyline fill=\"none\" stroke=\"#000000\" points=\"544,-68 544,0 \"/>\n<polyline fill=\"none\" stroke=\"#000000\" points=\"544,-68 548,-72 \"/>\n<text text-anchor=\"middle\" x=\"504.5\" y=\"-47.3\" font-family=\"Times,serif\" font-size=\"14.00\" fill=\"#000000\">Train </text>\n<text text-anchor=\"middle\" x=\"504.5\" y=\"-32.3\" font-family=\"Times,serif\" font-size=\"14.00\" fill=\"#000000\"> your model</text>\n<text text-anchor=\"middle\" x=\"504.5\" y=\"-17.3\" font-family=\"Times,serif\" font-size=\"14.00\" fill=\"#000000\">4</text>\n</g>\n<!-- transform&#45;&gt;train -->\n<g id=\"edge3\" class=\"edge\">\n<title>transform&#45;&gt;train</title>\n<path fill=\"none\" stroke=\"#000000\" d=\"M425.2996,-36C433.7162,-36 442.4067,-36 450.8098,-36\"/>\n<polygon fill=\"#000000\" stroke=\"#000000\" points=\"450.8795,-39.5001 460.8795,-36 450.8795,-32.5001 450.8795,-39.5001\"/>\n</g>\n<!-- predict -->\n<g id=\"node5\" class=\"node\">\n<title>predict</title>\n<polygon fill=\"none\" stroke=\"#000000\" points=\"722,-72 588,-72 584,-68 584,0 718,0 722,-4 722,-72\"/>\n<polyline fill=\"none\" stroke=\"#000000\" points=\"718,-68 584,-68 \"/>\n<polyline fill=\"none\" stroke=\"#000000\" points=\"718,-68 718,0 \"/>\n<polyline fill=\"none\" stroke=\"#000000\" points=\"718,-68 722,-72 \"/>\n<text text-anchor=\"middle\" x=\"653\" y=\"-47.3\" font-family=\"Times,serif\" font-size=\"14.00\" fill=\"#000000\">Model Interpretation </text>\n<text text-anchor=\"middle\" x=\"653\" y=\"-32.3\" font-family=\"Times,serif\" font-size=\"14.00\" fill=\"#000000\"> and Predictions</text>\n<text text-anchor=\"middle\" x=\"653\" y=\"-17.3\" font-family=\"Times,serif\" font-size=\"14.00\" fill=\"#000000\">5</text>\n</g>\n<!-- train&#45;&gt;predict -->\n<g id=\"edge4\" class=\"edge\">\n<title>train&#45;&gt;predict</title>\n<path fill=\"none\" stroke=\"#000000\" d=\"M548.2517,-36C556.3072,-36 564.9423,-36 573.6715,-36\"/>\n<polygon fill=\"#000000\" stroke=\"#000000\" points=\"573.933,-39.5001 583.933,-36 573.9329,-32.5001 573.933,-39.5001\"/>\n</g>\n</g>\n</svg>\n"
          },
          "metadata": {},
          "execution_count": 19
        }
      ]
    },
    {
      "cell_type": "markdown",
      "metadata": {
        "id": "uatMU4v1vwax"
      },
      "source": [
        "1. ***Define a ML problem and propose a solution:*** Define what Recommender System Problem you intend to work on. What are your items and who are yours users? Define if you take the content-based approach or the collaborative filtering approach and start defining your proposed model for a solution.\n",
        "\n",
        "2. ***Collect and construct your dataset:*** Prepare your data-item interaction matrix.\n",
        "\n",
        "\n",
        "3. ***Data Transformation:*** Build your dataloaders.\n",
        "\n",
        "\n",
        "4. ***Train your model:*** Start the training, define `y_range`, `n_factors` and your performance `metrics`.\n",
        "\n",
        "5. ***Interpret the model and make predictions:*** Dive into the results to understand the defined latent factors and embeddings. Use the model to make predictions."
      ]
    },
    {
      "cell_type": "markdown",
      "metadata": {
        "id": "ZnRcHX_fGCj7"
      },
      "source": [
        "# Building a Collaborative Filtering Model"
      ]
    },
    {
      "cell_type": "markdown",
      "metadata": {
        "id": "4jk5FhiRF65U"
      },
      "source": [
        "## 1. Define a Machine Learning problem and propose a solution"
      ]
    },
    {
      "cell_type": "markdown",
      "metadata": {
        "id": "Q7ouQ0Y0F-n7"
      },
      "source": [
        "## 2. Constructing the dataset"
      ]
    },
    {
      "cell_type": "markdown",
      "metadata": {
        "id": "EAM2m1GqhnQO"
      },
      "source": [
        "We do not have access to Netflix's entire dataset of movie watching history, but there is a great dataset that we can use, called [MovieLens](https://grouplens.org/datasets/movielens/). This dataset contains tens of millions of movie rankings (a combination of a movie ID, a user ID, and a numeric rating), although we will just use a subset of 100,000 of them for our example. If you're interested, it would be a great learning project to try and replicate this approach on the full 25-million recommendation dataset, which you can get from their website."
      ]
    },
    {
      "cell_type": "markdown",
      "metadata": {
        "id": "dWLVlkbQhnQP"
      },
      "source": [
        "The dataset is available through the usual fastai function:"
      ]
    },
    {
      "cell_type": "code",
      "metadata": {
        "id": "xQNlPT8lFX8v"
      },
      "source": [
        "path = untar_data(URLs.ML_100k)"
      ],
      "execution_count": null,
      "outputs": []
    },
    {
      "cell_type": "code",
      "metadata": {
        "colab": {
          "base_uri": "https://localhost:8080/"
        },
        "id": "DcHz08JItHCI",
        "outputId": "fb2c8fa8-ca9d-41fb-b23f-d3a27f9bac68"
      },
      "source": [
        "path.ls()"
      ],
      "execution_count": null,
      "outputs": [
        {
          "output_type": "execute_result",
          "data": {
            "text/plain": [
              "(#23) [Path('/root/.fastai/data/ml-100k/u3.base'),Path('/root/.fastai/data/ml-100k/u4.base'),Path('/root/.fastai/data/ml-100k/u5.base'),Path('/root/.fastai/data/ml-100k/u1.test'),Path('/root/.fastai/data/ml-100k/u.genre'),Path('/root/.fastai/data/ml-100k/ub.test'),Path('/root/.fastai/data/ml-100k/ua.base'),Path('/root/.fastai/data/ml-100k/u.occupation'),Path('/root/.fastai/data/ml-100k/u.item'),Path('/root/.fastai/data/ml-100k/allbut.pl')...]"
            ]
          },
          "metadata": {},
          "execution_count": 21
        }
      ]
    },
    {
      "cell_type": "markdown",
      "metadata": {
        "id": "0bhUqGgU0A8V"
      },
      "source": [
        "In order to better understand our dataset, let's observe the README file which is an introductionary file to our data. \n",
        "\n",
        "Note that not every dataset supplies a README file."
      ]
    },
    {
      "cell_type": "code",
      "metadata": {
        "colab": {
          "base_uri": "https://localhost:8080/"
        },
        "id": "EMJ1eO5Ly5G8",
        "outputId": "2e58e618-fa77-4b39-a42a-11265995e93c"
      },
      "source": [
        "readme = path / 'README'\n",
        "print(readme.read_text()) # \"<path variable>.read_text()\" will get the content of a file"
      ],
      "execution_count": null,
      "outputs": [
        {
          "output_type": "stream",
          "name": "stdout",
          "text": [
            "SUMMARY & USAGE LICENSE\n",
            "=============================================\n",
            "\n",
            "MovieLens data sets were collected by the GroupLens Research Project\n",
            "at the University of Minnesota.\n",
            " \n",
            "This data set consists of:\n",
            "\t* 100,000 ratings (1-5) from 943 users on 1682 movies. \n",
            "\t* Each user has rated at least 20 movies. \n",
            "        * Simple demographic info for the users (age, gender, occupation, zip)\n",
            "\n",
            "The data was collected through the MovieLens web site\n",
            "(movielens.umn.edu) during the seven-month period from September 19th, \n",
            "1997 through April 22nd, 1998. This data has been cleaned up - users\n",
            "who had less than 20 ratings or did not have complete demographic\n",
            "information were removed from this data set. Detailed descriptions of\n",
            "the data file can be found at the end of this file.\n",
            "\n",
            "Neither the University of Minnesota nor any of the researchers\n",
            "involved can guarantee the correctness of the data, its suitability\n",
            "for any particular purpose, or the validity of results based on the\n",
            "use of the data set.  The data set may be used for any research\n",
            "purposes under the following conditions:\n",
            "\n",
            "     * The user may not state or imply any endorsement from the\n",
            "       University of Minnesota or the GroupLens Research Group.\n",
            "\n",
            "     * The user must acknowledge the use of the data set in\n",
            "       publications resulting from the use of the data set\n",
            "       (see below for citation information).\n",
            "\n",
            "     * The user may not redistribute the data without separate\n",
            "       permission.\n",
            "\n",
            "     * The user may not use this information for any commercial or\n",
            "       revenue-bearing purposes without first obtaining permission\n",
            "       from a faculty member of the GroupLens Research Project at the\n",
            "       University of Minnesota.\n",
            "\n",
            "If you have any further questions or comments, please contact GroupLens\n",
            "<grouplens-info@cs.umn.edu>. \n",
            "\n",
            "CITATION\n",
            "==============================================\n",
            "\n",
            "To acknowledge use of the dataset in publications, please cite the \n",
            "following paper:\n",
            "\n",
            "F. Maxwell Harper and Joseph A. Konstan. 2015. The MovieLens Datasets:\n",
            "History and Context. ACM Transactions on Interactive Intelligent\n",
            "Systems (TiiS) 5, 4, Article 19 (December 2015), 19 pages.\n",
            "DOI=http://dx.doi.org/10.1145/2827872\n",
            "\n",
            "\n",
            "ACKNOWLEDGEMENTS\n",
            "==============================================\n",
            "\n",
            "Thanks to Al Borchers for cleaning up this data and writing the\n",
            "accompanying scripts.\n",
            "\n",
            "PUBLISHED WORK THAT HAS USED THIS DATASET\n",
            "==============================================\n",
            "\n",
            "Herlocker, J., Konstan, J., Borchers, A., Riedl, J.. An Algorithmic\n",
            "Framework for Performing Collaborative Filtering. Proceedings of the\n",
            "1999 Conference on Research and Development in Information\n",
            "Retrieval. Aug. 1999.\n",
            "\n",
            "FURTHER INFORMATION ABOUT THE GROUPLENS RESEARCH PROJECT\n",
            "==============================================\n",
            "\n",
            "The GroupLens Research Project is a research group in the Department\n",
            "of Computer Science and Engineering at the University of Minnesota.\n",
            "Members of the GroupLens Research Project are involved in many\n",
            "research projects related to the fields of information filtering,\n",
            "collaborative filtering, and recommender systems. The project is lead\n",
            "by professors John Riedl and Joseph Konstan. The project began to\n",
            "explore automated collaborative filtering in 1992, but is most well\n",
            "known for its world wide trial of an automated collaborative filtering\n",
            "system for Usenet news in 1996.  The technology developed in the\n",
            "Usenet trial formed the base for the formation of Net Perceptions,\n",
            "Inc., which was founded by members of GroupLens Research. Since then\n",
            "the project has expanded its scope to research overall information\n",
            "filtering solutions, integrating in content-based methods as well as\n",
            "improving current collaborative filtering technology.\n",
            "\n",
            "Further information on the GroupLens Research project, including\n",
            "research publications, can be found at the following web site:\n",
            "        \n",
            "        http://www.grouplens.org/\n",
            "\n",
            "GroupLens Research currently operates a movie recommender based on\n",
            "collaborative filtering:\n",
            "\n",
            "        http://www.movielens.org/\n",
            "\n",
            "DETAILED DESCRIPTIONS OF DATA FILES\n",
            "==============================================\n",
            "\n",
            "Here are brief descriptions of the data.\n",
            "\n",
            "ml-data.tar.gz   -- Compressed tar file.  To rebuild the u data files do this:\n",
            "                gunzip ml-data.tar.gz\n",
            "                tar xvf ml-data.tar\n",
            "                mku.sh\n",
            "\n",
            "u.data     -- The full u data set, 100000 ratings by 943 users on 1682 items.\n",
            "              Each user has rated at least 20 movies.  Users and items are\n",
            "              numbered consecutively from 1.  The data is randomly\n",
            "              ordered. This is a tab separated list of \n",
            "\t         user id | item id | rating | timestamp. \n",
            "              The time stamps are unix seconds since 1/1/1970 UTC   \n",
            "\n",
            "u.info     -- The number of users, items, and ratings in the u data set.\n",
            "\n",
            "u.item     -- Information about the items (movies); this is a tab separated\n",
            "              list of\n",
            "              movie id | movie title | release date | video release date |\n",
            "              IMDb URL | unknown | Action | Adventure | Animation |\n",
            "              Children's | Comedy | Crime | Documentary | Drama | Fantasy |\n",
            "              Film-Noir | Horror | Musical | Mystery | Romance | Sci-Fi |\n",
            "              Thriller | War | Western |\n",
            "              The last 19 fields are the genres, a 1 indicates the movie\n",
            "              is of that genre, a 0 indicates it is not; movies can be in\n",
            "              several genres at once.\n",
            "              The movie ids are the ones used in the u.data data set.\n",
            "\n",
            "u.genre    -- A list of the genres.\n",
            "\n",
            "u.user     -- Demographic information about the users; this is a tab\n",
            "              separated list of\n",
            "              user id | age | gender | occupation | zip code\n",
            "              The user ids are the ones used in the u.data data set.\n",
            "\n",
            "u.occupation -- A list of the occupations.\n",
            "\n",
            "u1.base    -- The data sets u1.base and u1.test through u5.base and u5.test\n",
            "u1.test       are 80%/20% splits of the u data into training and test data.\n",
            "u2.base       Each of u1, ..., u5 have disjoint test sets; this if for\n",
            "u2.test       5 fold cross validation (where you repeat your experiment\n",
            "u3.base       with each training and test set and average the results).\n",
            "u3.test       These data sets can be generated from u.data by mku.sh.\n",
            "u4.base\n",
            "u4.test\n",
            "u5.base\n",
            "u5.test\n",
            "\n",
            "ua.base    -- The data sets ua.base, ua.test, ub.base, and ub.test\n",
            "ua.test       split the u data into a training set and a test set with\n",
            "ub.base       exactly 10 ratings per user in the test set.  The sets\n",
            "ub.test       ua.test and ub.test are disjoint.  These data sets can\n",
            "              be generated from u.data by mku.sh.\n",
            "\n",
            "allbut.pl  -- The script that generates training and test sets where\n",
            "              all but n of a users ratings are in the training data.\n",
            "\n",
            "mku.sh     -- A shell script to generate all the u data sets from u.data.\n",
            "\n"
          ]
        }
      ]
    },
    {
      "cell_type": "markdown",
      "metadata": {
        "id": "5m9biLyRx9Qa"
      },
      "source": [
        "After going through the brief description of the data, we can see that among others we can access:\n",
        "* `u.data` (information about the movie ratings of users),\n",
        "* `u.item` (information about the items (movies)),\n",
        "* `u.genre` (list of genres),\n",
        "* `u.user` (demographic information about the users) and\n",
        "* `u.occupation` (list of occupations).\n",
        "\n",
        "Moreover, you could have noticed that we are working with a tab seperated list. This simply implies that we are using tab as a delimiter/seperator of our data instead of commas (CSV - comma seperated values).\n",
        "\n",
        "Let's explore our data. Since we are working with a tab seperated list, we will have to define the `delimiter` as a \"`|`\" (tab), and use the `latin-1` encoding to maps all possible byte values to the first 256 Unicode code points (English characters). Lastly, we can define that the table does not have any header, so that we automatically create headers for the table from 0 to 23.\n",
        "\n",
        "Let's start with observing `u.item`:"
      ]
    },
    {
      "cell_type": "code",
      "metadata": {
        "colab": {
          "base_uri": "https://localhost:8080/",
          "height": 408
        },
        "id": "j87resoTuhY5",
        "outputId": "99dce664-c942-448d-afd0-fab10ac6b569"
      },
      "source": [
        "pd.read_csv(path/'u.item', delimiter='|', encoding='latin-1', header = None)"
      ],
      "execution_count": null,
      "outputs": [
        {
          "output_type": "execute_result",
          "data": {
            "text/html": [
              "<div>\n",
              "<style scoped>\n",
              "    .dataframe tbody tr th:only-of-type {\n",
              "        vertical-align: middle;\n",
              "    }\n",
              "\n",
              "    .dataframe tbody tr th {\n",
              "        vertical-align: top;\n",
              "    }\n",
              "\n",
              "    .dataframe thead th {\n",
              "        text-align: right;\n",
              "    }\n",
              "</style>\n",
              "<table border=\"1\" class=\"dataframe\">\n",
              "  <thead>\n",
              "    <tr style=\"text-align: right;\">\n",
              "      <th></th>\n",
              "      <th>0</th>\n",
              "      <th>1</th>\n",
              "      <th>2</th>\n",
              "      <th>3</th>\n",
              "      <th>4</th>\n",
              "      <th>5</th>\n",
              "      <th>6</th>\n",
              "      <th>7</th>\n",
              "      <th>8</th>\n",
              "      <th>9</th>\n",
              "      <th>10</th>\n",
              "      <th>11</th>\n",
              "      <th>12</th>\n",
              "      <th>13</th>\n",
              "      <th>14</th>\n",
              "      <th>15</th>\n",
              "      <th>16</th>\n",
              "      <th>17</th>\n",
              "      <th>18</th>\n",
              "      <th>19</th>\n",
              "      <th>20</th>\n",
              "      <th>21</th>\n",
              "      <th>22</th>\n",
              "      <th>23</th>\n",
              "    </tr>\n",
              "  </thead>\n",
              "  <tbody>\n",
              "    <tr>\n",
              "      <th>0</th>\n",
              "      <td>1</td>\n",
              "      <td>Toy Story (1995)</td>\n",
              "      <td>01-Jan-1995</td>\n",
              "      <td>NaN</td>\n",
              "      <td>http://us.imdb.com/M/title-exact?Toy%20Story%20(1995)</td>\n",
              "      <td>0</td>\n",
              "      <td>0</td>\n",
              "      <td>0</td>\n",
              "      <td>1</td>\n",
              "      <td>1</td>\n",
              "      <td>1</td>\n",
              "      <td>0</td>\n",
              "      <td>0</td>\n",
              "      <td>0</td>\n",
              "      <td>0</td>\n",
              "      <td>0</td>\n",
              "      <td>0</td>\n",
              "      <td>0</td>\n",
              "      <td>0</td>\n",
              "      <td>0</td>\n",
              "      <td>0</td>\n",
              "      <td>0</td>\n",
              "      <td>0</td>\n",
              "      <td>0</td>\n",
              "    </tr>\n",
              "    <tr>\n",
              "      <th>1</th>\n",
              "      <td>2</td>\n",
              "      <td>GoldenEye (1995)</td>\n",
              "      <td>01-Jan-1995</td>\n",
              "      <td>NaN</td>\n",
              "      <td>http://us.imdb.com/M/title-exact?GoldenEye%20(1995)</td>\n",
              "      <td>0</td>\n",
              "      <td>1</td>\n",
              "      <td>1</td>\n",
              "      <td>0</td>\n",
              "      <td>0</td>\n",
              "      <td>0</td>\n",
              "      <td>0</td>\n",
              "      <td>0</td>\n",
              "      <td>0</td>\n",
              "      <td>0</td>\n",
              "      <td>0</td>\n",
              "      <td>0</td>\n",
              "      <td>0</td>\n",
              "      <td>0</td>\n",
              "      <td>0</td>\n",
              "      <td>0</td>\n",
              "      <td>1</td>\n",
              "      <td>0</td>\n",
              "      <td>0</td>\n",
              "    </tr>\n",
              "    <tr>\n",
              "      <th>2</th>\n",
              "      <td>3</td>\n",
              "      <td>Four Rooms (1995)</td>\n",
              "      <td>01-Jan-1995</td>\n",
              "      <td>NaN</td>\n",
              "      <td>http://us.imdb.com/M/title-exact?Four%20Rooms%20(1995)</td>\n",
              "      <td>0</td>\n",
              "      <td>0</td>\n",
              "      <td>0</td>\n",
              "      <td>0</td>\n",
              "      <td>0</td>\n",
              "      <td>0</td>\n",
              "      <td>0</td>\n",
              "      <td>0</td>\n",
              "      <td>0</td>\n",
              "      <td>0</td>\n",
              "      <td>0</td>\n",
              "      <td>0</td>\n",
              "      <td>0</td>\n",
              "      <td>0</td>\n",
              "      <td>0</td>\n",
              "      <td>0</td>\n",
              "      <td>1</td>\n",
              "      <td>0</td>\n",
              "      <td>0</td>\n",
              "    </tr>\n",
              "    <tr>\n",
              "      <th>3</th>\n",
              "      <td>4</td>\n",
              "      <td>Get Shorty (1995)</td>\n",
              "      <td>01-Jan-1995</td>\n",
              "      <td>NaN</td>\n",
              "      <td>http://us.imdb.com/M/title-exact?Get%20Shorty%20(1995)</td>\n",
              "      <td>0</td>\n",
              "      <td>1</td>\n",
              "      <td>0</td>\n",
              "      <td>0</td>\n",
              "      <td>0</td>\n",
              "      <td>1</td>\n",
              "      <td>0</td>\n",
              "      <td>0</td>\n",
              "      <td>1</td>\n",
              "      <td>0</td>\n",
              "      <td>0</td>\n",
              "      <td>0</td>\n",
              "      <td>0</td>\n",
              "      <td>0</td>\n",
              "      <td>0</td>\n",
              "      <td>0</td>\n",
              "      <td>0</td>\n",
              "      <td>0</td>\n",
              "      <td>0</td>\n",
              "    </tr>\n",
              "    <tr>\n",
              "      <th>4</th>\n",
              "      <td>5</td>\n",
              "      <td>Copycat (1995)</td>\n",
              "      <td>01-Jan-1995</td>\n",
              "      <td>NaN</td>\n",
              "      <td>http://us.imdb.com/M/title-exact?Copycat%20(1995)</td>\n",
              "      <td>0</td>\n",
              "      <td>0</td>\n",
              "      <td>0</td>\n",
              "      <td>0</td>\n",
              "      <td>0</td>\n",
              "      <td>0</td>\n",
              "      <td>1</td>\n",
              "      <td>0</td>\n",
              "      <td>1</td>\n",
              "      <td>0</td>\n",
              "      <td>0</td>\n",
              "      <td>0</td>\n",
              "      <td>0</td>\n",
              "      <td>0</td>\n",
              "      <td>0</td>\n",
              "      <td>0</td>\n",
              "      <td>1</td>\n",
              "      <td>0</td>\n",
              "      <td>0</td>\n",
              "    </tr>\n",
              "    <tr>\n",
              "      <th>...</th>\n",
              "      <td>...</td>\n",
              "      <td>...</td>\n",
              "      <td>...</td>\n",
              "      <td>...</td>\n",
              "      <td>...</td>\n",
              "      <td>...</td>\n",
              "      <td>...</td>\n",
              "      <td>...</td>\n",
              "      <td>...</td>\n",
              "      <td>...</td>\n",
              "      <td>...</td>\n",
              "      <td>...</td>\n",
              "      <td>...</td>\n",
              "      <td>...</td>\n",
              "      <td>...</td>\n",
              "      <td>...</td>\n",
              "      <td>...</td>\n",
              "      <td>...</td>\n",
              "      <td>...</td>\n",
              "      <td>...</td>\n",
              "      <td>...</td>\n",
              "      <td>...</td>\n",
              "      <td>...</td>\n",
              "      <td>...</td>\n",
              "    </tr>\n",
              "    <tr>\n",
              "      <th>1677</th>\n",
              "      <td>1678</td>\n",
              "      <td>Mat' i syn (1997)</td>\n",
              "      <td>06-Feb-1998</td>\n",
              "      <td>NaN</td>\n",
              "      <td>http://us.imdb.com/M/title-exact?Mat%27+i+syn+(1997)</td>\n",
              "      <td>0</td>\n",
              "      <td>0</td>\n",
              "      <td>0</td>\n",
              "      <td>0</td>\n",
              "      <td>0</td>\n",
              "      <td>0</td>\n",
              "      <td>0</td>\n",
              "      <td>0</td>\n",
              "      <td>1</td>\n",
              "      <td>0</td>\n",
              "      <td>0</td>\n",
              "      <td>0</td>\n",
              "      <td>0</td>\n",
              "      <td>0</td>\n",
              "      <td>0</td>\n",
              "      <td>0</td>\n",
              "      <td>0</td>\n",
              "      <td>0</td>\n",
              "      <td>0</td>\n",
              "    </tr>\n",
              "    <tr>\n",
              "      <th>1678</th>\n",
              "      <td>1679</td>\n",
              "      <td>B. Monkey (1998)</td>\n",
              "      <td>06-Feb-1998</td>\n",
              "      <td>NaN</td>\n",
              "      <td>http://us.imdb.com/M/title-exact?B%2E+Monkey+(1998)</td>\n",
              "      <td>0</td>\n",
              "      <td>0</td>\n",
              "      <td>0</td>\n",
              "      <td>0</td>\n",
              "      <td>0</td>\n",
              "      <td>0</td>\n",
              "      <td>0</td>\n",
              "      <td>0</td>\n",
              "      <td>0</td>\n",
              "      <td>0</td>\n",
              "      <td>0</td>\n",
              "      <td>0</td>\n",
              "      <td>0</td>\n",
              "      <td>0</td>\n",
              "      <td>1</td>\n",
              "      <td>0</td>\n",
              "      <td>1</td>\n",
              "      <td>0</td>\n",
              "      <td>0</td>\n",
              "    </tr>\n",
              "    <tr>\n",
              "      <th>1679</th>\n",
              "      <td>1680</td>\n",
              "      <td>Sliding Doors (1998)</td>\n",
              "      <td>01-Jan-1998</td>\n",
              "      <td>NaN</td>\n",
              "      <td>http://us.imdb.com/Title?Sliding+Doors+(1998)</td>\n",
              "      <td>0</td>\n",
              "      <td>0</td>\n",
              "      <td>0</td>\n",
              "      <td>0</td>\n",
              "      <td>0</td>\n",
              "      <td>0</td>\n",
              "      <td>0</td>\n",
              "      <td>0</td>\n",
              "      <td>1</td>\n",
              "      <td>0</td>\n",
              "      <td>0</td>\n",
              "      <td>0</td>\n",
              "      <td>0</td>\n",
              "      <td>0</td>\n",
              "      <td>1</td>\n",
              "      <td>0</td>\n",
              "      <td>0</td>\n",
              "      <td>0</td>\n",
              "      <td>0</td>\n",
              "    </tr>\n",
              "    <tr>\n",
              "      <th>1680</th>\n",
              "      <td>1681</td>\n",
              "      <td>You So Crazy (1994)</td>\n",
              "      <td>01-Jan-1994</td>\n",
              "      <td>NaN</td>\n",
              "      <td>http://us.imdb.com/M/title-exact?You%20So%20Crazy%20(1994)</td>\n",
              "      <td>0</td>\n",
              "      <td>0</td>\n",
              "      <td>0</td>\n",
              "      <td>0</td>\n",
              "      <td>0</td>\n",
              "      <td>1</td>\n",
              "      <td>0</td>\n",
              "      <td>0</td>\n",
              "      <td>0</td>\n",
              "      <td>0</td>\n",
              "      <td>0</td>\n",
              "      <td>0</td>\n",
              "      <td>0</td>\n",
              "      <td>0</td>\n",
              "      <td>0</td>\n",
              "      <td>0</td>\n",
              "      <td>0</td>\n",
              "      <td>0</td>\n",
              "      <td>0</td>\n",
              "    </tr>\n",
              "    <tr>\n",
              "      <th>1681</th>\n",
              "      <td>1682</td>\n",
              "      <td>Scream of Stone (Schrei aus Stein) (1991)</td>\n",
              "      <td>08-Mar-1996</td>\n",
              "      <td>NaN</td>\n",
              "      <td>http://us.imdb.com/M/title-exact?Schrei%20aus%20Stein%20(1991)</td>\n",
              "      <td>0</td>\n",
              "      <td>0</td>\n",
              "      <td>0</td>\n",
              "      <td>0</td>\n",
              "      <td>0</td>\n",
              "      <td>0</td>\n",
              "      <td>0</td>\n",
              "      <td>0</td>\n",
              "      <td>1</td>\n",
              "      <td>0</td>\n",
              "      <td>0</td>\n",
              "      <td>0</td>\n",
              "      <td>0</td>\n",
              "      <td>0</td>\n",
              "      <td>0</td>\n",
              "      <td>0</td>\n",
              "      <td>0</td>\n",
              "      <td>0</td>\n",
              "      <td>0</td>\n",
              "    </tr>\n",
              "  </tbody>\n",
              "</table>\n",
              "<p>1682 rows × 24 columns</p>\n",
              "</div>"
            ],
            "text/plain": [
              "        0                                          1            2   3   \\\n",
              "0        1                           Toy Story (1995)  01-Jan-1995 NaN   \n",
              "1        2                           GoldenEye (1995)  01-Jan-1995 NaN   \n",
              "2        3                          Four Rooms (1995)  01-Jan-1995 NaN   \n",
              "3        4                          Get Shorty (1995)  01-Jan-1995 NaN   \n",
              "4        5                             Copycat (1995)  01-Jan-1995 NaN   \n",
              "...    ...                                        ...          ...  ..   \n",
              "1677  1678                          Mat' i syn (1997)  06-Feb-1998 NaN   \n",
              "1678  1679                           B. Monkey (1998)  06-Feb-1998 NaN   \n",
              "1679  1680                       Sliding Doors (1998)  01-Jan-1998 NaN   \n",
              "1680  1681                        You So Crazy (1994)  01-Jan-1994 NaN   \n",
              "1681  1682  Scream of Stone (Schrei aus Stein) (1991)  08-Mar-1996 NaN   \n",
              "\n",
              "                                                                  4   5   6   \\\n",
              "0              http://us.imdb.com/M/title-exact?Toy%20Story%20(1995)   0   0   \n",
              "1                http://us.imdb.com/M/title-exact?GoldenEye%20(1995)   0   1   \n",
              "2             http://us.imdb.com/M/title-exact?Four%20Rooms%20(1995)   0   0   \n",
              "3             http://us.imdb.com/M/title-exact?Get%20Shorty%20(1995)   0   1   \n",
              "4                  http://us.imdb.com/M/title-exact?Copycat%20(1995)   0   0   \n",
              "...                                                              ...  ..  ..   \n",
              "1677            http://us.imdb.com/M/title-exact?Mat%27+i+syn+(1997)   0   0   \n",
              "1678             http://us.imdb.com/M/title-exact?B%2E+Monkey+(1998)   0   0   \n",
              "1679                   http://us.imdb.com/Title?Sliding+Doors+(1998)   0   0   \n",
              "1680      http://us.imdb.com/M/title-exact?You%20So%20Crazy%20(1994)   0   0   \n",
              "1681  http://us.imdb.com/M/title-exact?Schrei%20aus%20Stein%20(1991)   0   0   \n",
              "\n",
              "      7   8   9   10  11  12  13  14  15  16  17  18  19  20  21  22  23  \n",
              "0      0   1   1   1   0   0   0   0   0   0   0   0   0   0   0   0   0  \n",
              "1      1   0   0   0   0   0   0   0   0   0   0   0   0   0   1   0   0  \n",
              "2      0   0   0   0   0   0   0   0   0   0   0   0   0   0   1   0   0  \n",
              "3      0   0   0   1   0   0   1   0   0   0   0   0   0   0   0   0   0  \n",
              "4      0   0   0   0   1   0   1   0   0   0   0   0   0   0   1   0   0  \n",
              "...   ..  ..  ..  ..  ..  ..  ..  ..  ..  ..  ..  ..  ..  ..  ..  ..  ..  \n",
              "1677   0   0   0   0   0   0   1   0   0   0   0   0   0   0   0   0   0  \n",
              "1678   0   0   0   0   0   0   0   0   0   0   0   0   1   0   1   0   0  \n",
              "1679   0   0   0   0   0   0   1   0   0   0   0   0   1   0   0   0   0  \n",
              "1680   0   0   0   1   0   0   0   0   0   0   0   0   0   0   0   0   0  \n",
              "1681   0   0   0   0   0   0   1   0   0   0   0   0   0   0   0   0   0  \n",
              "\n",
              "[1682 rows x 24 columns]"
            ]
          },
          "metadata": {},
          "execution_count": 23
        }
      ]
    },
    {
      "cell_type": "markdown",
      "metadata": {
        "id": "J_hW9t7D6IX9"
      },
      "source": [
        "As we can see we have 1681 rows corresponding to 1681 movies with 24 columns. You can go through the readme file if you want to understand the meaning of each column.\n",
        "\n",
        "The table looks messy. Let's make it more easier for us to view. For that we will get rid of the 19 possible genre binary fields, add headers and name each column."
      ]
    },
    {
      "cell_type": "code",
      "metadata": {
        "colab": {
          "base_uri": "https://localhost:8080/",
          "height": 200
        },
        "id": "_BErQlFQHLhr",
        "outputId": "591fd087-7295-41b9-d398-c178b5318ed3"
      },
      "source": [
        "movies = pd.read_csv(\n",
        "    path/'u.item',  delimiter='|', encoding='latin-1', #this simply ensures that we can open and read the file.\n",
        "    usecols=(0,1,2,3,4), names=('movie','title', 'release date', 'video release date', 'IMDb URL'))  #this makes sure it only contains the columns we want.\n",
        "\n",
        "movies.head() #This shows us the \"head\"(i.e. first 5 rows) of the table."
      ],
      "execution_count": null,
      "outputs": [
        {
          "output_type": "execute_result",
          "data": {
            "text/html": [
              "<div>\n",
              "<style scoped>\n",
              "    .dataframe tbody tr th:only-of-type {\n",
              "        vertical-align: middle;\n",
              "    }\n",
              "\n",
              "    .dataframe tbody tr th {\n",
              "        vertical-align: top;\n",
              "    }\n",
              "\n",
              "    .dataframe thead th {\n",
              "        text-align: right;\n",
              "    }\n",
              "</style>\n",
              "<table border=\"1\" class=\"dataframe\">\n",
              "  <thead>\n",
              "    <tr style=\"text-align: right;\">\n",
              "      <th></th>\n",
              "      <th>movie</th>\n",
              "      <th>title</th>\n",
              "      <th>release date</th>\n",
              "      <th>video release date</th>\n",
              "      <th>IMDb URL</th>\n",
              "    </tr>\n",
              "  </thead>\n",
              "  <tbody>\n",
              "    <tr>\n",
              "      <th>0</th>\n",
              "      <td>1</td>\n",
              "      <td>Toy Story (1995)</td>\n",
              "      <td>01-Jan-1995</td>\n",
              "      <td>NaN</td>\n",
              "      <td>http://us.imdb.com/M/title-exact?Toy%20Story%20(1995)</td>\n",
              "    </tr>\n",
              "    <tr>\n",
              "      <th>1</th>\n",
              "      <td>2</td>\n",
              "      <td>GoldenEye (1995)</td>\n",
              "      <td>01-Jan-1995</td>\n",
              "      <td>NaN</td>\n",
              "      <td>http://us.imdb.com/M/title-exact?GoldenEye%20(1995)</td>\n",
              "    </tr>\n",
              "    <tr>\n",
              "      <th>2</th>\n",
              "      <td>3</td>\n",
              "      <td>Four Rooms (1995)</td>\n",
              "      <td>01-Jan-1995</td>\n",
              "      <td>NaN</td>\n",
              "      <td>http://us.imdb.com/M/title-exact?Four%20Rooms%20(1995)</td>\n",
              "    </tr>\n",
              "    <tr>\n",
              "      <th>3</th>\n",
              "      <td>4</td>\n",
              "      <td>Get Shorty (1995)</td>\n",
              "      <td>01-Jan-1995</td>\n",
              "      <td>NaN</td>\n",
              "      <td>http://us.imdb.com/M/title-exact?Get%20Shorty%20(1995)</td>\n",
              "    </tr>\n",
              "    <tr>\n",
              "      <th>4</th>\n",
              "      <td>5</td>\n",
              "      <td>Copycat (1995)</td>\n",
              "      <td>01-Jan-1995</td>\n",
              "      <td>NaN</td>\n",
              "      <td>http://us.imdb.com/M/title-exact?Copycat%20(1995)</td>\n",
              "    </tr>\n",
              "  </tbody>\n",
              "</table>\n",
              "</div>"
            ],
            "text/plain": [
              "   movie              title release date  video release date  \\\n",
              "0      1   Toy Story (1995)  01-Jan-1995                 NaN   \n",
              "1      2   GoldenEye (1995)  01-Jan-1995                 NaN   \n",
              "2      3  Four Rooms (1995)  01-Jan-1995                 NaN   \n",
              "3      4  Get Shorty (1995)  01-Jan-1995                 NaN   \n",
              "4      5     Copycat (1995)  01-Jan-1995                 NaN   \n",
              "\n",
              "                                                 IMDb URL  \n",
              "0   http://us.imdb.com/M/title-exact?Toy%20Story%20(1995)  \n",
              "1     http://us.imdb.com/M/title-exact?GoldenEye%20(1995)  \n",
              "2  http://us.imdb.com/M/title-exact?Four%20Rooms%20(1995)  \n",
              "3  http://us.imdb.com/M/title-exact?Get%20Shorty%20(1995)  \n",
              "4       http://us.imdb.com/M/title-exact?Copycat%20(1995)  "
            ]
          },
          "metadata": {},
          "execution_count": 24
        }
      ]
    },
    {
      "cell_type": "markdown",
      "metadata": {
        "id": "zpcVsIXj7b59"
      },
      "source": [
        "Let's do the same for `u.user`."
      ]
    },
    {
      "cell_type": "code",
      "metadata": {
        "colab": {
          "base_uri": "https://localhost:8080/",
          "height": 200
        },
        "id": "MtXDHNAWuIBX",
        "outputId": "3e65a024-90e0-41b4-99c3-91e47f95052d"
      },
      "source": [
        "users = pd.read_csv(\n",
        "    path/'u.user', delimiter='|', encoding='latin-1', #this simply ensures that we can open and read the file.\n",
        "    usecols=(0,1,2,3,4), names=('user id', 'age', 'gender', 'occupation', 'zip code')) #this makes sure it only contains the columns we want.\n",
        "\n",
        "users.head() #This shows us the \"head\"(i.e. first 5 rows) of the table."
      ],
      "execution_count": null,
      "outputs": [
        {
          "output_type": "execute_result",
          "data": {
            "text/html": [
              "<div>\n",
              "<style scoped>\n",
              "    .dataframe tbody tr th:only-of-type {\n",
              "        vertical-align: middle;\n",
              "    }\n",
              "\n",
              "    .dataframe tbody tr th {\n",
              "        vertical-align: top;\n",
              "    }\n",
              "\n",
              "    .dataframe thead th {\n",
              "        text-align: right;\n",
              "    }\n",
              "</style>\n",
              "<table border=\"1\" class=\"dataframe\">\n",
              "  <thead>\n",
              "    <tr style=\"text-align: right;\">\n",
              "      <th></th>\n",
              "      <th>user id</th>\n",
              "      <th>age</th>\n",
              "      <th>gender</th>\n",
              "      <th>occupation</th>\n",
              "      <th>zip code</th>\n",
              "    </tr>\n",
              "  </thead>\n",
              "  <tbody>\n",
              "    <tr>\n",
              "      <th>0</th>\n",
              "      <td>1</td>\n",
              "      <td>24</td>\n",
              "      <td>M</td>\n",
              "      <td>technician</td>\n",
              "      <td>85711</td>\n",
              "    </tr>\n",
              "    <tr>\n",
              "      <th>1</th>\n",
              "      <td>2</td>\n",
              "      <td>53</td>\n",
              "      <td>F</td>\n",
              "      <td>other</td>\n",
              "      <td>94043</td>\n",
              "    </tr>\n",
              "    <tr>\n",
              "      <th>2</th>\n",
              "      <td>3</td>\n",
              "      <td>23</td>\n",
              "      <td>M</td>\n",
              "      <td>writer</td>\n",
              "      <td>32067</td>\n",
              "    </tr>\n",
              "    <tr>\n",
              "      <th>3</th>\n",
              "      <td>4</td>\n",
              "      <td>24</td>\n",
              "      <td>M</td>\n",
              "      <td>technician</td>\n",
              "      <td>43537</td>\n",
              "    </tr>\n",
              "    <tr>\n",
              "      <th>4</th>\n",
              "      <td>5</td>\n",
              "      <td>33</td>\n",
              "      <td>F</td>\n",
              "      <td>other</td>\n",
              "      <td>15213</td>\n",
              "    </tr>\n",
              "  </tbody>\n",
              "</table>\n",
              "</div>"
            ],
            "text/plain": [
              "   user id  age gender  occupation zip code\n",
              "0        1   24      M  technician    85711\n",
              "1        2   53      F       other    94043\n",
              "2        3   23      M      writer    32067\n",
              "3        4   24      M  technician    43537\n",
              "4        5   33      F       other    15213"
            ]
          },
          "metadata": {},
          "execution_count": 25
        }
      ]
    },
    {
      "cell_type": "markdown",
      "metadata": {
        "id": "dNB3rV0R8SYE"
      },
      "source": [
        "And lastly for `u.data`, which contain our ratings."
      ]
    },
    {
      "cell_type": "code",
      "metadata": {
        "colab": {
          "base_uri": "https://localhost:8080/",
          "height": 200
        },
        "id": "0Y3qfmKR8bqk",
        "outputId": "d2d3a6ae-0812-4411-b9b4-8de7f8c7695d"
      },
      "source": [
        "ratings = pd.read_csv(path/'u.data', delimiter='\\t',  #this simply ensures that we can open and read the file.\n",
        "                      usecols=(0,1,2), names=['user','movie','rating']) #this makes sure it only contains the columns we want.\n",
        "ratings.head() #This shows us the \"head\"(i.e. first 5 rows) of the table."
      ],
      "execution_count": null,
      "outputs": [
        {
          "output_type": "execute_result",
          "data": {
            "text/html": [
              "<div>\n",
              "<style scoped>\n",
              "    .dataframe tbody tr th:only-of-type {\n",
              "        vertical-align: middle;\n",
              "    }\n",
              "\n",
              "    .dataframe tbody tr th {\n",
              "        vertical-align: top;\n",
              "    }\n",
              "\n",
              "    .dataframe thead th {\n",
              "        text-align: right;\n",
              "    }\n",
              "</style>\n",
              "<table border=\"1\" class=\"dataframe\">\n",
              "  <thead>\n",
              "    <tr style=\"text-align: right;\">\n",
              "      <th></th>\n",
              "      <th>user</th>\n",
              "      <th>movie</th>\n",
              "      <th>rating</th>\n",
              "    </tr>\n",
              "  </thead>\n",
              "  <tbody>\n",
              "    <tr>\n",
              "      <th>0</th>\n",
              "      <td>196</td>\n",
              "      <td>242</td>\n",
              "      <td>3</td>\n",
              "    </tr>\n",
              "    <tr>\n",
              "      <th>1</th>\n",
              "      <td>186</td>\n",
              "      <td>302</td>\n",
              "      <td>3</td>\n",
              "    </tr>\n",
              "    <tr>\n",
              "      <th>2</th>\n",
              "      <td>22</td>\n",
              "      <td>377</td>\n",
              "      <td>1</td>\n",
              "    </tr>\n",
              "    <tr>\n",
              "      <th>3</th>\n",
              "      <td>244</td>\n",
              "      <td>51</td>\n",
              "      <td>2</td>\n",
              "    </tr>\n",
              "    <tr>\n",
              "      <th>4</th>\n",
              "      <td>166</td>\n",
              "      <td>346</td>\n",
              "      <td>1</td>\n",
              "    </tr>\n",
              "  </tbody>\n",
              "</table>\n",
              "</div>"
            ],
            "text/plain": [
              "   user  movie  rating\n",
              "0   196    242       3\n",
              "1   186    302       3\n",
              "2    22    377       1\n",
              "3   244     51       2\n",
              "4   166    346       1"
            ]
          },
          "metadata": {},
          "execution_count": 26
        }
      ]
    },
    {
      "cell_type": "markdown",
      "metadata": {
        "id": "tmNYt8Sl377E"
      },
      "source": [
        "You might have already realized, but...\n",
        "\n",
        "**as we are working on a collaborative filtering model, all user or movie related information are not important as we solely rely on the recorded interactions between users and movies. Thus, we required only the `u.data` file.**\n",
        "\n",
        "The only adjustment, we will make is to add the movie titles into the now defined `ratings` table, so that make it a little bit easier for us humans to understand what we are looking at."
      ]
    },
    {
      "cell_type": "code",
      "metadata": {
        "colab": {
          "base_uri": "https://localhost:8080/",
          "height": 200
        },
        "id": "4qV_CYJ-_wtn",
        "outputId": "7c6f10fb-4376-46ff-8a64-687383752a32"
      },
      "source": [
        "ratings = ratings.merge(movies[[\"movie\", \"title\"]]) # this line adds the \"title\" column to our table\n",
        "ratings.head() #This shows us the \"head\"(i.e. first 5 rows) of the table."
      ],
      "execution_count": null,
      "outputs": [
        {
          "output_type": "execute_result",
          "data": {
            "text/html": [
              "<div>\n",
              "<style scoped>\n",
              "    .dataframe tbody tr th:only-of-type {\n",
              "        vertical-align: middle;\n",
              "    }\n",
              "\n",
              "    .dataframe tbody tr th {\n",
              "        vertical-align: top;\n",
              "    }\n",
              "\n",
              "    .dataframe thead th {\n",
              "        text-align: right;\n",
              "    }\n",
              "</style>\n",
              "<table border=\"1\" class=\"dataframe\">\n",
              "  <thead>\n",
              "    <tr style=\"text-align: right;\">\n",
              "      <th></th>\n",
              "      <th>user</th>\n",
              "      <th>movie</th>\n",
              "      <th>rating</th>\n",
              "      <th>title</th>\n",
              "    </tr>\n",
              "  </thead>\n",
              "  <tbody>\n",
              "    <tr>\n",
              "      <th>0</th>\n",
              "      <td>196</td>\n",
              "      <td>242</td>\n",
              "      <td>3</td>\n",
              "      <td>Kolya (1996)</td>\n",
              "    </tr>\n",
              "    <tr>\n",
              "      <th>1</th>\n",
              "      <td>63</td>\n",
              "      <td>242</td>\n",
              "      <td>3</td>\n",
              "      <td>Kolya (1996)</td>\n",
              "    </tr>\n",
              "    <tr>\n",
              "      <th>2</th>\n",
              "      <td>226</td>\n",
              "      <td>242</td>\n",
              "      <td>5</td>\n",
              "      <td>Kolya (1996)</td>\n",
              "    </tr>\n",
              "    <tr>\n",
              "      <th>3</th>\n",
              "      <td>154</td>\n",
              "      <td>242</td>\n",
              "      <td>3</td>\n",
              "      <td>Kolya (1996)</td>\n",
              "    </tr>\n",
              "    <tr>\n",
              "      <th>4</th>\n",
              "      <td>306</td>\n",
              "      <td>242</td>\n",
              "      <td>5</td>\n",
              "      <td>Kolya (1996)</td>\n",
              "    </tr>\n",
              "  </tbody>\n",
              "</table>\n",
              "</div>"
            ],
            "text/plain": [
              "   user  movie  rating         title\n",
              "0   196    242       3  Kolya (1996)\n",
              "1    63    242       3  Kolya (1996)\n",
              "2   226    242       5  Kolya (1996)\n",
              "3   154    242       3  Kolya (1996)\n",
              "4   306    242       5  Kolya (1996)"
            ]
          },
          "metadata": {},
          "execution_count": 27
        }
      ]
    },
    {
      "cell_type": "markdown",
      "metadata": {
        "id": "_LaViiTkJgJo"
      },
      "source": [
        "We can also visualize this as something we call a *user-item interaction matrix*. It list all the movie IDs on the top and all the user IDs on the left. This way we can see the rating from user 1 to 14 for movie 1 to 14. You can play around with the `iloc` to show more results.\n",
        "\n",
        "For example, user 1 gave a 5.0 rating to movie 9. Any field that shows NaN means that the user has not yet rated the movie. In a content-based approach this would be an issue, however using the collaborative filtering method, it cannot work if you get rid of NaNs (Not a Number). In fact, the goal of the collaborative filtering model is to be able to fill and predict such ratings."
      ]
    },
    {
      "cell_type": "code",
      "metadata": {
        "colab": {
          "base_uri": "https://localhost:8080/"
        },
        "id": "H8arPwD7JYRd",
        "outputId": "c6b84420-e592-4ac8-bce7-53c4463fe382"
      },
      "source": [
        "print(ratings.pivot(index='movie', columns='user', values='rating').iloc[:15,:15])"
      ],
      "execution_count": null,
      "outputs": [
        {
          "output_type": "stream",
          "name": "stdout",
          "text": [
            "user    1    2   3    4    5    6    7    8    9    10   11   12   13   14  \\\n",
            "movie                                                                        \n",
            "1      5.0  4.0 NaN  NaN  4.0  4.0  NaN  NaN  NaN  4.0  NaN  NaN  3.0  NaN   \n",
            "2      3.0  NaN NaN  NaN  3.0  NaN  NaN  NaN  NaN  NaN  NaN  NaN  3.0  NaN   \n",
            "3      4.0  NaN NaN  NaN  NaN  NaN  NaN  NaN  NaN  NaN  NaN  NaN  NaN  NaN   \n",
            "4      3.0  NaN NaN  NaN  NaN  NaN  5.0  NaN  NaN  4.0  NaN  5.0  5.0  NaN   \n",
            "5      3.0  NaN NaN  NaN  NaN  NaN  NaN  NaN  NaN  NaN  NaN  NaN  1.0  NaN   \n",
            "6      5.0  NaN NaN  NaN  NaN  NaN  NaN  NaN  5.0  NaN  NaN  NaN  NaN  NaN   \n",
            "7      4.0  NaN NaN  NaN  NaN  2.0  5.0  3.0  4.0  4.0  NaN  NaN  2.0  5.0   \n",
            "8      1.0  NaN NaN  NaN  NaN  4.0  5.0  NaN  NaN  NaN  4.0  NaN  4.0  NaN   \n",
            "9      5.0  NaN NaN  NaN  NaN  4.0  5.0  NaN  NaN  4.0  5.0  NaN  3.0  4.0   \n",
            "10     3.0  2.0 NaN  NaN  NaN  NaN  4.0  NaN  NaN  NaN  NaN  NaN  NaN  NaN   \n",
            "11     2.0  NaN NaN  4.0  NaN  NaN  3.0  3.0  NaN  4.0  2.0  NaN  1.0  NaN   \n",
            "12     5.0  NaN NaN  NaN  NaN  4.0  5.0  NaN  NaN  5.0  2.0  NaN  5.0  5.0   \n",
            "13     5.0  4.0 NaN  NaN  NaN  2.0  NaN  NaN  NaN  3.0  NaN  NaN  5.0  4.0   \n",
            "14     5.0  4.0 NaN  NaN  NaN  5.0  NaN  NaN  NaN  NaN  NaN  NaN  4.0  3.0   \n",
            "15     5.0  NaN NaN  NaN  NaN  3.0  NaN  NaN  NaN  NaN  5.0  5.0  NaN  4.0   \n",
            "\n",
            "user    15  \n",
            "movie       \n",
            "1      1.0  \n",
            "2      NaN  \n",
            "3      NaN  \n",
            "4      NaN  \n",
            "5      NaN  \n",
            "6      NaN  \n",
            "7      1.0  \n",
            "8      NaN  \n",
            "9      4.0  \n",
            "10     NaN  \n",
            "11     NaN  \n",
            "12     NaN  \n",
            "13     1.0  \n",
            "14     4.0  \n",
            "15     4.0  \n"
          ]
        }
      ]
    },
    {
      "cell_type": "markdown",
      "metadata": {
        "id": "UIuilNbYhnQX"
      },
      "source": [
        "⚡ Try to the understand the *user-item interaction matrix* above as it will become more important later on."
      ]
    },
    {
      "cell_type": "markdown",
      "metadata": {
        "id": "9HVWe_3_AUXO"
      },
      "source": [
        "## 3. Data Transformation"
      ]
    },
    {
      "cell_type": "markdown",
      "metadata": {
        "id": "5sHEwV8QMcDG"
      },
      "source": [
        "We can then build a `DataLoaders` object from our `rating` table above. By default, it takes the first column for the user, the second column for the item (here our movies), and the third column for the ratings. We need to change the value of `item_name` in our case to use the titles instead of the IDs:"
      ]
    },
    {
      "cell_type": "code",
      "metadata": {
        "id": "h7Y-9FKHFWcW"
      },
      "source": [
        "dls = CollabDataLoaders.from_df(ratings, user_name='user', item_name='title')"
      ],
      "execution_count": null,
      "outputs": []
    },
    {
      "cell_type": "markdown",
      "metadata": {
        "id": "_Fm2N976-0M5"
      },
      "source": [
        "Let's have a look at the final input ahead of the model training using `show_batch` on our dataloaders`dls`."
      ]
    },
    {
      "cell_type": "code",
      "metadata": {
        "colab": {
          "base_uri": "https://localhost:8080/",
          "height": 351
        },
        "id": "EkWqq0wkFbVL",
        "outputId": "a9613494-33e8-48fa-b494-e3ec02e299da"
      },
      "source": [
        "dls.show_batch()"
      ],
      "execution_count": null,
      "outputs": [
        {
          "output_type": "display_data",
          "data": {
            "text/html": [
              "<table border=\"1\" class=\"dataframe\">\n",
              "  <thead>\n",
              "    <tr style=\"text-align: right;\">\n",
              "      <th></th>\n",
              "      <th>user</th>\n",
              "      <th>title</th>\n",
              "      <th>rating</th>\n",
              "    </tr>\n",
              "  </thead>\n",
              "  <tbody>\n",
              "    <tr>\n",
              "      <th>0</th>\n",
              "      <td>542</td>\n",
              "      <td>My Left Foot (1989)</td>\n",
              "      <td>4</td>\n",
              "    </tr>\n",
              "    <tr>\n",
              "      <th>1</th>\n",
              "      <td>422</td>\n",
              "      <td>Event Horizon (1997)</td>\n",
              "      <td>3</td>\n",
              "    </tr>\n",
              "    <tr>\n",
              "      <th>2</th>\n",
              "      <td>311</td>\n",
              "      <td>African Queen, The (1951)</td>\n",
              "      <td>4</td>\n",
              "    </tr>\n",
              "    <tr>\n",
              "      <th>3</th>\n",
              "      <td>595</td>\n",
              "      <td>Face/Off (1997)</td>\n",
              "      <td>4</td>\n",
              "    </tr>\n",
              "    <tr>\n",
              "      <th>4</th>\n",
              "      <td>617</td>\n",
              "      <td>Evil Dead II (1987)</td>\n",
              "      <td>1</td>\n",
              "    </tr>\n",
              "    <tr>\n",
              "      <th>5</th>\n",
              "      <td>158</td>\n",
              "      <td>Jurassic Park (1993)</td>\n",
              "      <td>5</td>\n",
              "    </tr>\n",
              "    <tr>\n",
              "      <th>6</th>\n",
              "      <td>836</td>\n",
              "      <td>Chasing Amy (1997)</td>\n",
              "      <td>3</td>\n",
              "    </tr>\n",
              "    <tr>\n",
              "      <th>7</th>\n",
              "      <td>474</td>\n",
              "      <td>Emma (1996)</td>\n",
              "      <td>3</td>\n",
              "    </tr>\n",
              "    <tr>\n",
              "      <th>8</th>\n",
              "      <td>466</td>\n",
              "      <td>Jackie Chan's First Strike (1996)</td>\n",
              "      <td>3</td>\n",
              "    </tr>\n",
              "    <tr>\n",
              "      <th>9</th>\n",
              "      <td>554</td>\n",
              "      <td>Scream (1996)</td>\n",
              "      <td>3</td>\n",
              "    </tr>\n",
              "  </tbody>\n",
              "</table>"
            ],
            "text/plain": [
              "<IPython.core.display.HTML object>"
            ]
          },
          "metadata": {}
        }
      ]
    },
    {
      "cell_type": "markdown",
      "metadata": {
        "id": "BjKQXldU_WDW"
      },
      "source": [
        "That looks great! Again, from all the information we were able to observe above, we simply need the user-item interaction data and the corresponding rating.\n",
        "\n",
        "Let's train our model."
      ]
    },
    {
      "cell_type": "markdown",
      "metadata": {
        "id": "V3dZ5oFIGPNE"
      },
      "source": [
        "## 4. Model Training"
      ]
    },
    {
      "cell_type": "markdown",
      "metadata": {
        "id": "LRdz5vsA_pcZ"
      },
      "source": [
        "Let's start building our learner using the `collab_learner` function.\n",
        "\n",
        "As usual, it takes our dataloaders as an argument. In addition, we also define `n_factors`, `y_range` and `metrics`. These are all very critical for us.\n",
        "\n",
        "> `y_range`: Our y is the dependant variable that our model has to learn to predict. In our case it's the rating each user gives to a movie. Ahead of the training, we will have to define the range which in our case is from 0 - 5 (0 star ranking = bad movie, 5 star ranking = good movie). It has proven as beneficial to have a slightly higher maximum or minimum. In order to find out the rating range, we will simply find the minimum and maximum rating inside the `ratings` table. Feel free to play around with that."
      ]
    },
    {
      "cell_type": "code",
      "metadata": {
        "colab": {
          "base_uri": "https://localhost:8080/"
        },
        "id": "KWdhekIJEaMg",
        "outputId": "3f047b56-210a-4e04-8057-72462bbef1c4"
      },
      "source": [
        "range_rating = (min(ratings[\"rating\"]), max(ratings[\"rating\"]))\n",
        "range_rating"
      ],
      "execution_count": null,
      "outputs": [
        {
          "output_type": "execute_result",
          "data": {
            "text/plain": [
              "(1, 5)"
            ]
          },
          "metadata": {},
          "execution_count": 31
        }
      ]
    },
    {
      "cell_type": "markdown",
      "metadata": {
        "id": "OpHzniJGFvhi"
      },
      "source": [
        "Now that we know its between 0 and 5 we can set the `y_range`.\n",
        "\n",
        "> `n_factors`: Here we are defining the amount of latent factors. The foundational idea of latent factors in collaborative filtering will be further explained later. Don't jump ahead yet!\n",
        "\n",
        "> `metrics`: We have chosen the Root Mean Squared Error (RMSE) as a performance as its easiest to directly interpret. It essentially tells us how close our predictions are to the actual data points. The higher the value, the further our predictions deviate from the actual rating. RMSE ranges from 0 to ∞. As a rule of thumb, a RMSE value below 1 is pretty good."
      ]
    },
    {
      "cell_type": "code",
      "metadata": {
        "id": "CEGRp0BdFgMk"
      },
      "source": [
        "learn = collab_learner(dls, n_factors=50, y_range=(0, 5.5), metrics=rmse)"
      ],
      "execution_count": null,
      "outputs": []
    },
    {
      "cell_type": "markdown",
      "metadata": {
        "id": "Gxy1dAZuE1Sb"
      },
      "source": [
        "Let's beging training our model using 5 epochs."
      ]
    },
    {
      "cell_type": "code",
      "metadata": {
        "colab": {
          "base_uri": "https://localhost:8080/",
          "height": 200
        },
        "id": "Ui6xU1m6GcVR",
        "outputId": "1434aee7-7f11-4d04-8e18-dd7de324ce05"
      },
      "source": [
        "learn.fit_one_cycle(5)"
      ],
      "execution_count": null,
      "outputs": [
        {
          "output_type": "display_data",
          "data": {
            "text/html": [
              "<table border=\"1\" class=\"dataframe\">\n",
              "  <thead>\n",
              "    <tr style=\"text-align: left;\">\n",
              "      <th>epoch</th>\n",
              "      <th>train_loss</th>\n",
              "      <th>valid_loss</th>\n",
              "      <th>_rmse</th>\n",
              "      <th>time</th>\n",
              "    </tr>\n",
              "  </thead>\n",
              "  <tbody>\n",
              "    <tr>\n",
              "      <td>0</td>\n",
              "      <td>1.294888</td>\n",
              "      <td>1.238758</td>\n",
              "      <td>1.112995</td>\n",
              "      <td>00:10</td>\n",
              "    </tr>\n",
              "    <tr>\n",
              "      <td>1</td>\n",
              "      <td>0.919833</td>\n",
              "      <td>0.922176</td>\n",
              "      <td>0.960300</td>\n",
              "      <td>00:09</td>\n",
              "    </tr>\n",
              "    <tr>\n",
              "      <td>2</td>\n",
              "      <td>0.864378</td>\n",
              "      <td>0.886033</td>\n",
              "      <td>0.941293</td>\n",
              "      <td>00:09</td>\n",
              "    </tr>\n",
              "    <tr>\n",
              "      <td>3</td>\n",
              "      <td>0.810605</td>\n",
              "      <td>0.872626</td>\n",
              "      <td>0.934144</td>\n",
              "      <td>00:09</td>\n",
              "    </tr>\n",
              "    <tr>\n",
              "      <td>4</td>\n",
              "      <td>0.759917</td>\n",
              "      <td>0.871024</td>\n",
              "      <td>0.933286</td>\n",
              "      <td>00:09</td>\n",
              "    </tr>\n",
              "  </tbody>\n",
              "</table>"
            ],
            "text/plain": [
              "<IPython.core.display.HTML object>"
            ]
          },
          "metadata": {}
        }
      ]
    },
    {
      "cell_type": "markdown",
      "metadata": {
        "id": "ShJIVOQ0JSQ8"
      },
      "source": [
        "As a benchmark for the same dataset we can compare ourselves to the popular [Librec system](https://guoguibing.github.io/librec/index.html) for collaborative filtering. They show the best results of a RMSE of 0.91. So we are doing pretty well."
      ]
    },
    {
      "cell_type": "markdown",
      "metadata": {
        "id": "NvFmaNu3GY9q"
      },
      "source": [
        "## 5. Model Interpretation"
      ]
    },
    {
      "cell_type": "markdown",
      "metadata": {
        "id": "eoZhZnSgJBc1"
      },
      "source": [
        "### How did the model learn to \"recommend\"?"
      ]
    },
    {
      "cell_type": "markdown",
      "metadata": {
        "id": "TCq555a7IdQP"
      },
      "source": [
        "After having trained our own collaborative filtering model, only depending on user-item interactions and the corresponding ranking, the obvious question is now: \"How did the model train itself?\".\n",
        "\n",
        "Prepare yourself to dive into the world of latent factors and embeddings, which are not only crucial in collaborative filtering, but also in other applications such as NLP (Natural Language Processing).\n",
        "\n",
        "Let's start with going through the example of a movie recommender system."
      ]
    },
    {
      "cell_type": "markdown",
      "metadata": {
        "id": "vBr2XU5hkPou"
      },
      "source": [
        "#### Introduction into Latent Factors"
      ]
    },
    {
      "cell_type": "markdown",
      "metadata": {
        "id": "YpRIZFBaL0PM"
      },
      "source": [
        "In the case above, we are now able to pretty confidently predict, what kind of movies you enjoy based on your  and other users previous watch history. Let's now try to understand how this is possible.\n",
        "\n",
        "Let's say we want to use our newly developed model on Netflix. On Netflix, you may have watched lots of movies that are science fiction, full of action, and were made in the 1970s. Netflix may not know these particular properties of the films you have watched, but it will be able to see that other people that have watched the same movies that you watched also tended to watch other movies that are science fiction, full of action, and were made in the 1970s. In other words, our model does not need to necessarily need to know anything about the movies, except who like to watch them.\n",
        "\n",
        "The key foundational idea to that is that of *latent factors*. In the Netflix example, we started with the assumption that you like old, action-packed sci-fi movies. But you never actually told Netflix that you like these kinds of movies. And Netflix never actually needed to add columns to its movies table saying which movies are of these types. Still, there must be some underlying pattern why a person prefers one set of movies over another. It is the models job, to identify and find this assumed pattern that allows it to make good predictions.\n",
        "\n",
        "In other words, the \"features\" that define the movies and the preference of the user, are not defined such as *release year*, *genre* or *length* (like we have seen in the content-based approach or any other tabular data problem), but these features are learned by the model. Thus, they are less transparent and obvious to humans."
      ]
    },
    {
      "cell_type": "markdown",
      "metadata": {
        "id": "x3H9YvopTX5f"
      },
      "source": [
        "##### How are the optimal latent factors learned?"
      ]
    },
    {
      "cell_type": "markdown",
      "metadata": {
        "id": "3uiUxYY9ThBz"
      },
      "source": [
        "In order to find the pattern between users and their interaction with items and the corresponding ranking. We essentially create a self-defined amount of \"features\" (called ***latent factors***) for the users and the movies that after training can explain the patterns. \n",
        "\n",
        "The goal of the model is to update and optimise the value of the latent factors towards being able to correctly predict the rating of the users based on the watch history of all users. To simplify this, you can imagine as a regression problem where we intend to correctly calculate the latent factor values (independent variable) based on the value of the rating (dependant variable).\n",
        "\n",
        "> The more latent factors we have, the more in detailed patterns we can find. However, it will also become more and more abstract.\n",
        "\n",
        "The latent factors are learned both for each movie as well as for each user. The latent factors of a movie describe its genre, content, or other characteristics. The latent factors of a user describe what kind of features the user likes in a movie. Matching the learned features together with the learned movie preferences of a user allow us to calculate and predict the rating."
      ]
    },
    {
      "cell_type": "markdown",
      "metadata": {
        "id": "qIadMNl_M2FK"
      },
      "source": [
        "#### Introduction into embeddings"
      ]
    },
    {
      "cell_type": "markdown",
      "metadata": {
        "id": "djNYRKaqwRRx"
      },
      "source": [
        "Having trained the model to a point so that the latent factors hold actual significance, we have reached a point where we can see powerful relationships between movies that, we would normally never be able to quantify.\n",
        "\n",
        "This is when we can start working with ***embeddings***. Embeddings are a learned representation for a given dataset where items (i.e. movies) that share a similarity in content and categories have a similar representation.\n",
        "\n",
        "In the picture below you see a visualization that simplifies what embeddings are."
      ]
    },
    {
      "cell_type": "markdown",
      "metadata": {
        "id": "hAzsLP3zRaFc"
      },
      "source": [
        "<img src=\"https://github.com/unpackAI/DL101/raw/main/images/rec_movieembedding.png\" alt=\"styletransfer\" width=\"700\"/>"
      ]
    },
    {
      "cell_type": "markdown",
      "metadata": {
        "id": "Pq91HCzk-wdn"
      },
      "source": [
        "You can see on the left that we have 4 movies that are explained by 7 latent factors. For movies, latent factors could represent the genre or age, but also possibly the actual content such as violence-level or contained nudity.\n",
        "\n",
        "Be reminded that again, that we simplified the latent factors to make them more intuitive for humans. In this case again, the value of the latent factors range between -1 and 1. The higher the number the more the latent factor represents the movie.\n",
        "\n",
        "The entire vector or row is called an embedding and is the learned representation of how the movie can be compared to other movies.\n",
        "\n",
        "By reducing dimensions from 7D to 2D we can more clearly see the significance of that. We can now visually interpret the similarity of Movie 1 and 2 which also share similar values in their latent factors. Movie 1 and 4 on the other hand seem extremely different.\n",
        "\n",
        "Let's apply our acquired expertise to our own dataset."
      ]
    },
    {
      "cell_type": "markdown",
      "metadata": {
        "id": "uydDLW2eM8qP"
      },
      "source": [
        "### Latent factors and embeddings for our Movie Recommender System"
      ]
    },
    {
      "cell_type": "markdown",
      "metadata": {
        "id": "BOnaUldI2i87"
      },
      "source": [
        "In order to analyze the results of our previous model, we will work with the 1000 most rated movies for this. You will see that older movies have received more ratings than newer movies."
      ]
    },
    {
      "cell_type": "code",
      "metadata": {
        "colab": {
          "base_uri": "https://localhost:8080/"
        },
        "id": "gxQv3pMaNDti",
        "cellView": "form",
        "outputId": "66f1ff6c-4708-4d57-ef0e-de5ce3f6a71d"
      },
      "source": [
        "#@title Top 1000 most rated movies\n",
        "g = ratings.groupby('title')['rating'].count()\n",
        "top_movies = g.sort_values(ascending=False).index.values[:1000]\n",
        "top_movies"
      ],
      "execution_count": null,
      "outputs": [
        {
          "output_type": "execute_result",
          "data": {
            "text/plain": [
              "array(['Star Wars (1977)', 'Contact (1997)', 'Fargo (1996)', 'Return of the Jedi (1983)', 'Liar Liar (1997)', 'English Patient, The (1996)', 'Scream (1996)', 'Toy Story (1995)',\n",
              "       'Air Force One (1997)', 'Independence Day (ID4) (1996)', 'Raiders of the Lost Ark (1981)', 'Godfather, The (1972)', 'Pulp Fiction (1994)', 'Twelve Monkeys (1995)',\n",
              "       'Silence of the Lambs, The (1991)', 'Jerry Maguire (1996)', 'Chasing Amy (1997)', 'Rock, The (1996)', 'Empire Strikes Back, The (1980)', 'Star Trek: First Contact (1996)',\n",
              "       'Back to the Future (1985)', 'Titanic (1997)', 'Mission: Impossible (1996)', 'Fugitive, The (1993)', 'Indiana Jones and the Last Crusade (1989)',\n",
              "       'Willy Wonka and the Chocolate Factory (1971)', 'Princess Bride, The (1987)', 'Forrest Gump (1994)', 'Monty Python and the Holy Grail (1974)', 'Saint, The (1997)', 'Full Monty, The (1997)',\n",
              "       'Men in Black (1997)', 'Terminator, The (1984)', 'E.T. the Extra-Terrestrial (1982)', 'Dead Man Walking (1995)', \"Schindler's List (1993)\", 'Leaving Las Vegas (1995)', 'Braveheart (1995)',\n",
              "       'L.A. Confidential (1997)', 'Terminator 2: Judgment Day (1991)', 'Conspiracy Theory (1997)', \"Mr. Holland's Opus (1995)\", 'Birdcage, The (1996)', 'Twister (1996)', 'Alien (1979)',\n",
              "       'When Harry Met Sally... (1989)', 'Aliens (1986)', 'Shawshank Redemption, The (1994)', 'Groundhog Day (1993)', 'Jaws (1975)', 'Amadeus (1984)', 'Apollo 13 (1995)', 'Blade Runner (1982)',\n",
              "       'Truth About Cats & Dogs, The (1996)', 'Sense and Sensibility (1995)', 'Ransom (1996)', 'Usual Suspects, The (1995)', \"One Flew Over the Cuckoo's Nest (1975)\", 'Jurassic Park (1993)',\n",
              "       '2001: A Space Odyssey (1968)', 'Evita (1996)', 'Dances with Wolves (1990)', 'Raising Arizona (1987)', 'Broken Arrow (1996)', 'Game, The (1997)', 'Four Weddings and a Funeral (1994)',\n",
              "       'Dead Poets Society (1989)', 'Blues Brothers, The (1980)', 'Trainspotting (1996)', 'Fish Called Wanda, A (1988)', 'Wizard of Oz, The (1939)', 'Star Trek: The Wrath of Khan (1982)',\n",
              "       'Phenomenon (1996)', 'Die Hard (1988)', 'Casablanca (1942)', 'Sting, The (1973)', \"Dante's Peak (1997)\", \"Devil's Own, The (1997)\", 'Psycho (1960)', 'Graduate, The (1967)',\n",
              "       'Seven (Se7en) (1995)', 'Time to Kill, A (1996)', \"It's a Wonderful Life (1946)\", 'Speed (1994)', 'In & Out (1997)', 'Stand by Me (1986)', 'Hunt for Red October, The (1990)',\n",
              "       'GoodFellas (1990)', 'Heat (1995)', 'Sound of Music, The (1965)', 'Courage Under Fire (1996)', 'Apocalypse Now (1979)', 'Clockwork Orange, A (1971)', 'Lion King, The (1994)', 'Top Gun (1986)',\n",
              "       'Babe (1995)', 'Volcano (1997)', 'To Kill a Mockingbird (1962)', 'Aladdin (1992)', 'Murder at 1600 (1997)', 'Mars Attacks! (1996)', 'Butch Cassidy and the Sundance Kid (1969)',\n",
              "       'People vs. Larry Flynt, The (1996)', 'Sleepless in Seattle (1993)', 'Field of Dreams (1989)', 'Starship Troopers (1997)', 'Godfather: Part II, The (1974)', 'Rear Window (1954)',\n",
              "       'Get Shorty (1995)', 'True Lies (1994)', 'Brazil (1985)', 'M*A*S*H (1970)', 'Eraser (1996)', 'Shining, The (1980)', 'Beauty and the Beast (1991)', 'Boot, Das (1981)', 'Batman (1989)',\n",
              "       'Young Frankenstein (1974)', 'Star Trek IV: The Voyage Home (1986)', 'Good Will Hunting (1997)', 'Citizen Kane (1941)', 'Fifth Element, The (1997)', 'Gandhi (1982)',\n",
              "       'Dr. Strangelove or: How I Learned to Stop Worrying and Love the Bomb (1963)', 'Face/Off (1997)', 'Tin Cup (1996)', 'Mrs. Doubtfire (1993)', 'This Is Spinal Tap (1984)', 'Sabrina (1995)',\n",
              "       'Boogie Nights (1997)', \"Devil's Advocate, The (1997)\", 'Lone Star (1996)', 'Long Kiss Goodnight, The (1996)', 'Mighty Aphrodite (1995)', \"Ulee's Gold (1997)\", 'Postino, Il (1994)',\n",
              "       'Taxi Driver (1976)', 'Unforgiven (1992)', 'Fly Away Home (1996)', 'Dave (1993)', 'Tomorrow Never Dies (1997)', 'Annie Hall (1977)', 'North by Northwest (1959)',\n",
              "       'Clear and Present Danger (1994)', 'Vertigo (1958)', 'Mary Poppins (1964)', 'Primal Fear (1996)', 'Emma (1996)', 'Much Ado About Nothing (1993)', 'That Thing You Do! (1996)',\n",
              "       'Cop Land (1997)', 'G.I. Jane (1997)', 'Quiz Show (1994)', 'Fantasia (1940)', 'Rumble in the Bronx (1995)', \"Monty Python's Life of Brian (1979)\", 'Lawrence of Arabia (1962)',\n",
              "       \"My Best Friend's Wedding (1997)\", 'Snow White and the Seven Dwarfs (1937)', 'Gone with the Wind (1939)', 'Big Night (1996)', 'Star Trek III: The Search for Spock (1984)', 'Heathers (1989)',\n",
              "       'Glory (1989)', 'Cape Fear (1991)', 'Full Metal Jacket (1987)', 'Grease (1978)', 'Clueless (1995)', 'Ghost (1990)', 'Sleepers (1996)', 'In the Line of Fire (1993)', 'Mother (1996)',\n",
              "       'Everyone Says I Love You (1996)', 'Piano, The (1993)', 'Die Hard 2 (1990)', 'Bridge on the River Kwai, The (1957)', 'Cool Hand Luke (1967)', 'American President, The (1995)',\n",
              "       'Pretty Woman (1990)', 'Nutty Professor, The (1996)', 'Secrets & Lies (1996)', 'While You Were Sleeping (1995)', 'Birds, The (1963)', 'Kingpin (1996)', 'George of the Jungle (1997)',\n",
              "       'Star Trek VI: The Undiscovered Country (1991)', 'First Wives Club, The (1996)', 'Grosse Pointe Blank (1997)', 'Apt Pupil (1998)', 'Dragonheart (1996)',\n",
              "       'Lost World: Jurassic Park, The (1997)', 'Executive Decision (1996)', 'Right Stuff, The (1983)', 'Swingers (1996)', 'Beavis and Butt-head Do America (1996)', 'Seven Years in Tibet (1997)',\n",
              "       'Crimson Tide (1995)', 'Highlander (1986)', 'Fried Green Tomatoes (1991)', 'African Queen, The (1951)', 'Abyss, The (1989)', 'Die Hard: With a Vengeance (1995)', 'Firm, The (1993)',\n",
              "       'Remains of the Day, The (1993)', 'Sneakers (1992)', 'Professional, The (1994)', 'Happy Gilmore (1996)', 'Clerks (1994)', 'Grumpier Old Men (1995)',\n",
              "       'Like Water For Chocolate (Como agua para chocolate) (1992)', 'Reservoir Dogs (1992)', 'Donnie Brasco (1997)', 'Chinatown (1974)', 'River Wild, The (1994)', 'Rainmaker, The (1997)',\n",
              "       \"Jackie Chan's First Strike (1996)\", 'Kiss the Girls (1997)', 'Spawn (1997)', 'Nightmare Before Christmas, The (1993)', 'Batman Returns (1992)', 'Searching for Bobby Fischer (1993)',\n",
              "       'Maltese Falcon, The (1941)', 'Philadelphia (1993)', \"Singin' in the Rain (1952)\", 'Good, The Bad and The Ugly, The (1966)', 'Wag the Dog (1997)', 'Interview with the Vampire (1994)',\n",
              "       'Home Alone (1990)', 'Con Air (1997)', 'Sling Blade (1996)', 'Patton (1970)', 'Gattaca (1997)', 'Peacemaker, The (1997)', 'Multiplicity (1996)', 'Crow, The (1994)',\n",
              "       'Room with a View, A (1986)', 'Ed Wood (1994)', 'Jungle2Jungle (1997)', 'GoldenEye (1995)', 'Manchurian Candidate, The (1962)', 'Austin Powers: International Man of Mystery (1997)',\n",
              "       'Mystery Science Theater 3000: The Movie (1996)', 'Shine (1996)', 'Bound (1996)', 'Cinderella (1950)', 'Mask, The (1994)', 'Ghost and the Darkness, The (1996)',\n",
              "       'Father of the Bride Part II (1995)', 'Maverick (1994)', 'Last of the Mohicans, The (1992)', 'Natural Born Killers (1994)', 'Crash (1996)', 'Some Like It Hot (1959)', 'Absolute Power (1997)',\n",
              "       'Nikita (La Femme Nikita) (1990)', 'Hunchback of Notre Dame, The (1996)', 'Platoon (1986)', 'Event Horizon (1997)', 'Stargate (1994)', 'James and the Giant Peach (1996)',\n",
              "       'Jackie Brown (1997)', 'My Fair Lady (1964)', 'Lost Highway (1997)', '12 Angry Men (1957)', 'Cold Comfort Farm (1995)', 'Henry V (1989)', 'Great Escape, The (1963)', 'Amistad (1997)',\n",
              "       'Alien: Resurrection (1997)', 'Under Siege (1992)', 'Ben-Hur (1959)', 'Dumbo (1941)', 'Bonnie and Clyde (1967)', 'My Left Foot (1989)', 'Harold and Maude (1971)', 'Killing Fields, The (1984)',\n",
              "       'Magnificent Seven, The (1954)', 'Carrie (1976)', 'Cinema Paradiso (1988)', 'Deer Hunter, The (1978)', 'Net, The (1995)', \"Bram Stoker's Dracula (1992)\", 'Crying Game, The (1992)',\n",
              "       'Michael (1996)', 'Real Genius (1985)', 'Wrong Trousers, The (1993)', 'Hoop Dreams (1994)', 'Kolya (1996)', 'Star Trek: The Motion Picture (1979)', 'Raging Bull (1980)', 'Being There (1979)',\n",
              "       'Army of Darkness (1993)', 'Star Trek: Generations (1994)', 'Frighteners, The (1996)', 'Arsenic and Old Lace (1944)', 'Beautiful Girls (1996)', \"What's Eating Gilbert Grape (1993)\",\n",
              "       'Rosewood (1997)', 'Pink Floyd - The Wall (1982)', 'Batman Forever (1995)', 'Edge, The (1997)', 'As Good As It Gets (1997)', 'One Fine Day (1996)', 'Welcome to the Dollhouse (1995)',\n",
              "       'Close Shave, A (1995)', 'Adventures of Priscilla, Queen of the Desert, The (1994)', 'Nightmare on Elm Street, A (1984)', 'Hudsucker Proxy, The (1994)', '101 Dalmatians (1996)',\n",
              "       'Tombstone (1993)', 'Ice Storm, The (1997)', 'Conan the Barbarian (1981)', 'On Golden Pond (1981)', 'Scream 2 (1997)', 'Cable Guy, The (1996)', \"William Shakespeare's Romeo and Juliet (1996)\",\n",
              "       'Mr. Smith Goes to Washington (1939)', 'True Romance (1993)', 'Strictly Ballroom (1992)', 'Craft, The (1996)', 'Outbreak (1995)', 'Philadelphia Story, The (1940)',\n",
              "       'Ace Ventura: Pet Detective (1994)', 'Benny & Joon (1993)', 'In the Name of the Father (1993)', 'Little Women (1994)', 'Waterworld (1995)', 'Young Guns (1988)', 'Basic Instinct (1992)',\n",
              "       'Mimic (1997)', 'Pinocchio (1940)', 'Miracle on 34th Street (1994)', 'Sex, Lies, and Videotape (1989)', 'Down Periscope (1996)', 'Alien 3 (1992)', \"Muriel's Wedding (1994)\",\n",
              "       'Private Parts (1997)', 'I Know What You Did Last Summer (1997)', 'American Werewolf in London, An (1981)', 'Streetcar Named Desire, A (1951)', 'Dirty Dancing (1987)',\n",
              "       \"Romy and Michele's High School Reunion (1997)\", 'Day the Earth Stood Still, The (1951)', 'Spitfire Grill, The (1996)', 'Desperado (1995)', 'Client, The (1994)',\n",
              "       'City of Lost Children, The (1995)', 'Fierce Creatures (1997)', 'Jumanji (1995)', 'Mrs. Brown (Her Majesty, Mrs. Brown) (1997)', \"Breakfast at Tiffany's (1961)\",\n",
              "       'So I Married an Axe Murderer (1993)', 'Matilda (1996)', '2 Days in the Valley (1996)', 'My Life as a Dog (Mitt liv som hund) (1985)', 'Duck Soup (1933)', 'Very Brady Sequel, A (1996)',\n",
              "       'Space Jam (1996)', 'Cliffhanger (1993)', 'Money Talks (1997)', 'Return of the Pink Panther, The (1974)', 'Michael Collins (1996)', 'From Dusk Till Dawn (1996)', 'Rob Roy (1995)',\n",
              "       'Demolition Man (1993)', 'Unbearable Lightness of Being, The (1988)', 'Bean (1997)', 'Casino (1995)', 'Escape from New York (1981)', 'Manhattan (1979)', 'Madness of King George, The (1994)',\n",
              "       'Escape from L.A. (1996)', 'Four Rooms (1995)', 'Rebel Without a Cause (1955)', 'Rosencrantz and Guildenstern Are Dead (1990)', 'Nixon (1995)', 'Hamlet (1996)', 'Grifters, The (1990)',\n",
              "       'Richard III (1995)', \"Miller's Crossing (1990)\", 'Evil Dead II (1987)', 'Three Musketeers, The (1993)', 'High Noon (1952)', 'Addams Family Values (1993)', 'Strange Days (1995)',\n",
              "       'To Die For (1995)', 'Jackal, The (1997)', 'First Knight (1995)', 'Beautician and the Beast, The (1997)', 'Cape Fear (1962)', 'Bullets Over Broadway (1994)', 'My Fellow Americans (1996)',\n",
              "       'Copycat (1995)', 'Jungle Book, The (1994)', 'White Squall (1996)', 'Omen, The (1976)', 'Up Close and Personal (1996)', 'Bob Roberts (1992)', 'French Kiss (1995)',\n",
              "       'Muppet Treasure Island (1996)', 'Three Colors: Red (1994)', 'Arrival, The (1996)', 'Sword in the Stone, The (1963)', 'Mulholland Falls (1996)', 'Juror, The (1996)', 'Sleeper (1973)',\n",
              "       'Cook the Thief His Wife & Her Lover, The (1989)', 'Santa Clause, The (1994)', 'Somewhere in Time (1980)', 'Legends of the Fall (1994)', 'Nell (1994)', 'Alice in Wonderland (1951)',\n",
              "       'It Happened One Night (1934)', 'I.Q. (1994)', 'Crumb (1994)', 'Picture Perfect (1997)', 'Man Who Would Be King, The (1975)', 'Treasure of the Sierra Madre, The (1948)', 'Phantom, The (1996)',\n",
              "       'Midnight in the Garden of Good and Evil (1997)', 'Chain Reaction (1996)', 'Eat Drink Man Woman (1994)', 'Dolores Claiborne (1994)', 'City Hall (1996)', 'Pump Up the Volume (1990)',\n",
              "       'Better Off Dead... (1985)', 'Secret Garden, The (1993)', \"Marvin's Room (1996)\", 'Shadowlands (1993)', 'Crucible, The (1996)', 'Breakdown (1997)', 'Victor/Victoria (1982)',\n",
              "       'Reality Bites (1994)', 'Brady Bunch Movie, The (1995)', 'Circle of Friends (1995)', 'Don Juan DeMarco (1995)', 'Wings of the Dove, The (1997)', 'Vegas Vacation (1997)',\n",
              "       'Winnie the Pooh and the Blustery Day (1968)', 'Robin Hood: Prince of Thieves (1991)', 'Six Degrees of Separation (1993)', 'Smoke (1995)', 'Breaking the Waves (1996)', 'Sgt. Bilko (1996)',\n",
              "       'Hoodlum (1997)', 'Brothers McMullen, The (1995)', 'Parent Trap, The (1961)', 'Heavy Metal (1981)', \"She's the One (1996)\", 'Big Sleep, The (1946)', 'Desperate Measures (1998)',\n",
              "       'Third Man, The (1949)', '20,000 Leagues Under the Sea (1954)', 'Angels and Insects (1995)', 'Seventh Seal, The (Sjunde inseglet, Det) (1957)', 'Othello (1995)', 'Wedding Singer, The (1998)',\n",
              "       \"Things to Do in Denver when You're Dead (1995)\", 'How to Make an American Quilt (1995)', 'Secret of Roan Inish, The (1994)', 'Restoration (1995)', 'Diabolique (1996)', 'Jack (1996)',\n",
              "       'Ran (1985)', 'Heavenly Creatures (1994)', 'Enchanted April (1991)', \"McHale's Navy (1997)\", \"Antonia's Line (1995)\", 'Naked Gun 33 1/3: The Final Insult (1994)', 'Kull the Conqueror (1997)',\n",
              "       'Dumb & Dumber (1994)', 'Christmas Carol, A (1938)', 'Glengarry Glen Ross (1992)', 'Body Snatchers (1993)', \"Preacher's Wife, The (1996)\", 'Dial M for Murder (1954)', 'Roman Holiday (1953)',\n",
              "       'Man Without a Face, The (1993)', 'Bringing Up Baby (1938)', 'Cool Runnings (1993)', 'Hot Shots! Part Deux (1993)', 'Adventures of Robin Hood, The (1938)', 'Short Cuts (1993)',\n",
              "       'Forbidden Planet (1956)', 'Private Benjamin (1980)', 'Bridges of Madison County, The (1995)', 'Quiet Man, The (1952)', 'Wallace & Gromit: The Best of Aardman Animation (1996)', 'Wolf (1994)',\n",
              "       'Striptease (1996)', 'Hercules (1997)', 'Tommy Boy (1995)', 'Jaws 2 (1978)', 'Anastasia (1997)', 'Mirror Has Two Faces, The (1996)', 'Cyrano de Bergerac (1990)', 'Rebecca (1940)',\n",
              "       'All About Eve (1950)', 'Grand Day Out, A (1992)', 'Shallow Grave (1994)', 'Diva (1981)', 'In the Company of Men (1997)', 'Delicatessen (1991)', 'Candyman (1992)', 'Supercop (1992)',\n",
              "       'Age of Innocence, The (1993)', 'Kids in the Hall: Brain Candy (1996)', 'Deconstructing Harry (1997)', 'Sunset Blvd. (1950)', 'Lawnmower Man, The (1992)', 'Jean de Florette (1986)',\n",
              "       'Stealing Beauty (1996)', \"Eve's Bayou (1997)\", 'Old Yeller (1957)', 'U Turn (1997)', 'Three Colors: Blue (1993)', 'Night of the Living Dead (1968)', 'Extreme Measures (1996)', 'Rudy (1993)',\n",
              "       'Sabrina (1954)', 'Dazed and Confused (1993)', 'Fan, The (1996)', 'Star Trek V: The Final Frontier (1989)', 'Local Hero (1983)', 'Immortal Beloved (1994)', 'Jane Eyre (1996)',\n",
              "       'Apartment, The (1960)', 'Walk in the Clouds, A (1995)', 'Batman & Robin (1997)', 'Forget Paris (1995)', 'My Favorite Year (1982)', 'Cat on a Hot Tin Roof (1958)',\n",
              "       'Homeward Bound: The Incredible Journey (1993)', 'Fox and the Hound, The (1981)', 'Father of the Bride (1950)', 'Thin Man, The (1934)', 'Bed of Roses (1996)', \"Weekend at Bernie's (1989)\",\n",
              "       'Murder in the First (1995)', 'Kalifornia (1993)', 'Sirens (1994)', 'Around the World in 80 Days (1956)', 'East of Eden (1955)', \"Mary Shelley's Frankenstein (1994)\",\n",
              "       'Last Action Hero (1993)', 'Soul Food (1997)', '39 Steps, The (1935)', 'Some Kind of Wonderful (1987)', 'Three Colors: White (1994)', \"Sophie's Choice (1982)\",\n",
              "       'Manon of the Spring (Manon des sources) (1986)', 'Postman, The (1997)', 'Last Supper, The (1995)', 'Ref, The (1994)', 'Home for the Holidays (1995)', 'Raise the Red Lantern (1991)',\n",
              "       'Nine Months (1995)', 'Daylight (1996)', 'Red Corner (1997)', 'Bedknobs and Broomsticks (1971)', 'Devil in a Blue Dress (1995)', 'Island of Dr. Moreau, The (1996)',\n",
              "       'To Wong Foo, Thanks for Everything! Julie Newmar (1995)', 'Wings of Desire (1987)', 'Bad Boys (1995)', 'Bananas (1971)', 'Robin Hood: Men in Tights (1993)', 'Celluloid Closet, The (1995)',\n",
              "       'His Girl Friday (1940)', 'Black Sheep (1996)', 'Looking for Richard (1996)', 'Apostle, The (1997)', 'Tales from the Crypt Presents: Bordello of Blood (1996)', 'Addicted to Love (1997)',\n",
              "       'Serial Mom (1994)', 'Mallrats (1995)', 'Nosferatu (Nosferatu, eine Symphonie des Grauens) (1922)', \"Carlito's Way (1993)\", 'Aristocats, The (1970)', \"She's So Lovely (1997)\",\n",
              "       'Life Less Ordinary, A (1997)', 'Barcelona (1994)', 'Last Man Standing (1996)', 'Koyaanisqatsi (1983)', 'Amityville Horror, The (1979)', 'Days of Thunder (1990)', 'Flubber (1997)',\n",
              "       'Notorious (1946)', 'Red Rock West (1992)', 'Excess Baggage (1997)', 'Man Who Knew Too Little, The (1997)', 'Casper (1995)', 'Pocahontas (1995)', 'MatchMaker, The (1997)', 'Tin Men (1987)',\n",
              "       'Giant (1956)', 'American in Paris, An (1951)', 'Trees Lounge (1996)', 'Once Upon a Time in America (1984)', 'Menace II Society (1993)', 'To Catch a Thief (1955)', 'Akira (1988)',\n",
              "       'Perfect World, A (1993)', 'Love Bug, The (1969)', 'Wyatt Earp (1994)', 'Kids (1995)', 'Thinner (1996)', 'Rocket Man (1997)', 'Mortal Kombat (1995)', 'Substitute, The (1996)',\n",
              "       'Bulletproof (1996)', 'Great White Hype, The (1996)', 'Before Sunrise (1995)', 'Beverly Hills Ninja (1997)', 'Quick and the Dead, The (1995)', 'Bronx Tale, A (1993)',\n",
              "       'Glimmer Man, The (1996)', 'Under Siege 2: Dark Territory (1995)', \"Smilla's Sense of Snow (1997)\", 'Booty Call (1997)', 'Cat People (1982)', 'Powder (1995)', 'Mad City (1997)',\n",
              "       'Swimming with Sharks (1995)', 'Up in Smoke (1978)', 'Sudden Death (1995)', 'Dangerous Minds (1995)', 'Waiting for Guffman (1996)', 'Great Dictator, The (1940)', 'Doors, The (1991)',\n",
              "       'Blob, The (1958)', 'Screamers (1995)', 'With Honors (1994)', 'Shall We Dance? (1996)', 'Malice (1993)', \"Nobody's Fool (1994)\", 'Bride of Frankenstein (1935)', 'Farewell My Concubine (1993)',\n",
              "       'Paris, Texas (1984)', 'It Could Happen to You (1994)', 'Shadow, The (1994)', 'Family Thing, A (1996)', 'Species (1995)', 'Blue in the Face (1995)', 'Citizen Ruth (1996)',\n",
              "       \"Joe's Apartment (1996)\", 'Junior (1994)', \"What's Love Got to Do with It (1993)\", 'Sweet Hereafter, The (1997)', 'When We Were Kings (1996)', 'To Gillian on Her 37th Birthday (1996)',\n",
              "       'Nick of Time (1995)', \"City Slickers II: The Legend of Curly's Gold (1994)\", 'Basquiat (1996)', 'Bottle Rocket (1996)', 'Young Guns II (1990)', 'Shadow Conspiracy (1997)',\n",
              "       'Fire Down Below (1997)', 'Persuasion (1995)', 'Leave It to Beaver (1997)', 'M (1931)', 'Fear (1996)', 'Return of Martin Guerre, The (Retour de Martin Guerre, Le) (1982)', 'Ridicule (1996)',\n",
              "       'Mouse Hunt (1997)', 'Chamber, The (1996)', 'Renaissance Man (1994)', \"Pete's Dragon (1977)\", 'Rising Sun (1993)', 'Air Bud (1997)', 'Wild Bunch, The (1969)', 'Money Train (1995)',\n",
              "       'Playing God (1997)', 'Tales From the Crypt Presents: Demon Knight (1995)', 'Ghost and Mrs. Muir, The (1947)', 'Spy Hard (1996)', 'Mortal Kombat: Annihilation (1997)',\n",
              "       'Big Lebowski, The (1998)', 'Love Jones (1997)', 'Flirting With Disaster (1996)', 'Congo (1995)', 'Kundun (1997)', 'Freeway (1996)', 'Moll Flanders (1996)', 'Gigi (1958)',\n",
              "       'Little Princess, A (1995)', 'Johnny Mnemonic (1995)', 'Coneheads (1993)', 'Tank Girl (1995)', 'That Darn Cat! (1997)', 'Associate, The (1996)', 'Sphere (1998)', '187 (1997)', 'Fallen (1998)',\n",
              "       \"Young Poisoner's Handbook, The (1995)\", 'Some Folks Call It a Sling Blade (1993)', 'Hard Target (1993)', 'Charade (1963)', 'Paper, The (1994)', 'Killing Zoe (1994)', 'Laura (1944)',\n",
              "       'Priest (1994)', 'Disclosure (1994)', 'Harriet the Spy (1996)', 'Eddie (1996)', 'Tin Drum, The (Blechtrommel, Die) (1979)', 'Basketball Diaries, The (1995)', 'First Kid (1996)',\n",
              "       'Candidate, The (1972)', 'Mary Reilly (1996)', 'Only You (1994)', 'Corrina, Corrina (1994)', 'Judge Dredd (1995)', 'Son in Law (1993)', 'Replacement Killers, The (1998)',\n",
              "       'Swiss Family Robinson (1960)', 'Crow: City of Angels, The (1996)', 'Indian in the Cupboard, The (1995)', 'Adventures of Pinocchio, The (1996)', 'Angels in the Outfield (1994)',\n",
              "       'Assassins (1995)', 'When a Man Loves a Woman (1994)', 'Career Girls (1997)', 'French Twist (Gazon maudit) (1995)', 'Speed 2: Cruise Control (1997)', 'Once Upon a Time in the West (1969)',\n",
              "       'Howling, The (1981)', '8 1/2 (1963)', 'Get on the Bus (1996)', 'Virtuosity (1995)', 'Anaconda (1997)', 'Thousand Acres, A (1997)', 'Ace Ventura: When Nature Calls (1995)',\n",
              "       'I Shot Andy Warhol (1996)', 'Billy Madison (1995)', 'Belle de jour (1967)', 'Sliver (1993)', 'Milk Money (1994)', 'Romeo Is Bleeding (1993)', 'Night on Earth (1991)', 'Speechless (1994)',\n",
              "       'Metro (1997)', 'Thin Blue Line, The (1988)', 'Gaslight (1944)', \"Don't Be a Menace to South Central While Drinking Your Juice in the Hood (1996)\", 'Trigger Effect, The (1996)',\n",
              "       'Down by Law (1986)', \"Wes Craven's New Nightmare (1994)\", 'Fled (1996)', 'Mediterraneo (1991)', 'Touch of Evil (1958)', 'Boys on the Side (1995)', 'Terminal Velocity (1994)',\n",
              "       'Unforgettable (1996)', 'Dead Man (1995)', 'Orlando (1993)', 'Jeffrey (1995)', 'Lost Horizon (1937)', 'Washington Square (1997)', 'Hackers (1995)', 'Anna Karenina (1997)',\n",
              "       'Paths of Glory (1957)', 'Clockers (1995)', 'Free Willy (1993)', 'Englishman Who Went Up a Hill, But Came Down a Mountain, The (1995)', 'Prophecy, The (1995)', 'Eye for an Eye (1996)',\n",
              "       'Brassed Off (1996)', 'Tie Me Up! Tie Me Down! (1990)', 'Airheads (1994)', 'Transformers: The Movie, The (1986)', 'Boomerang (1992)', \"Cats Don't Dance (1997)\", 'Feeling Minnesota (1996)',\n",
              "       'Homeward Bound II: Lost in San Francisco (1996)', 'Night Falls on Manhattan (1997)', 'Fast, Cheap & Out of Control (1997)', 'Old Man and the Sea, The (1958)', 'Bio-Dome (1996)',\n",
              "       'Hard Rain (1998)', \"Fathers' Day (1997)\", 'Die xue shuang xiong (Killer, The) (1989)', 'Timecop (1994)', 'Kiss Me, Guido (1997)', 'Program, The (1993)', 'Great Race, The (1965)',\n",
              "       'Flintstones, The (1994)', 'Drop Zone (1994)', 'Threesome (1994)', 'Meet Me in St. Louis (1944)', 'Operation Dumbo Drop (1995)', 'Once Were Warriors (1994)', 'Escape to Witch Mountain (1975)',\n",
              "       'Higher Learning (1995)', 'My Own Private Idaho (1991)', 'FairyTale: A True Story (1997)', 'Barb Wire (1996)', 'Georgia (1995)', 'Shaggy Dog, The (1959)', 'Spellbound (1945)',\n",
              "       'If Lucy Fell (1996)', 'Evening Star, The (1996)', 'Canadian Bacon (1994)', 'Twelfth Night (1996)', 'High School High (1996)', 'Deceiver (1997)', 'Blown Away (1994)', 'Beautiful Thing (1996)',\n",
              "       \"Stephen King's The Langoliers (1995)\", 'Ghosts of Mississippi (1996)', 'Crossing Guard, The (1995)', 'Once Upon a Time... When We Were Colored (1995)', 'Death and the Maiden (1994)',\n",
              "       'Passion Fish (1992)', 'In Love and War (1996)', 'Just Cause (1995)', 'Blues Brothers 2000 (1998)', 'Barbarella (1968)', 'Beverly Hills Cop III (1994)', 'Chungking Express (1994)',\n",
              "       'Another Stakeout (1993)', \"Heaven's Prisoners (1996)\", 'Black Beauty (1994)', 'My Man Godfrey (1936)', 'Pollyanna (1960)', 'Spanking the Monkey (1994)', 'Living in Oblivion (1995)',\n",
              "       'Wishmaster (1997)', 'Quest, The (1996)', 'Tales from the Hood (1995)', 'Free Willy 3: The Rescue (1997)', 'Paris Is Burning (1990)', 'Vanya on 42nd Street (1994)', 'Made in America (1993)',\n",
              "       'Manhattan Murder Mystery (1993)', 'Great Expectations (1998)', 'Exotica (1994)', 'Love! Valour! Compassion! (1997)', 'Aladdin and the King of Thieves (1996)',\n",
              "       'Shanghai Triad (Yao a yao yao dao waipo qiao) (1995)', 'Ninotchka (1939)', 'Affair to Remember, An (1957)', 'Ghost in the Shell (Kokaku kidotai) (1995)', 'Something to Talk About (1995)',\n",
              "       'Walkabout (1971)', 'Spice World (1997)', 'Pillow Book, The (1995)', 'Before and After (1996)', 'Super Mario Bros. (1993)', 'In the Mouth of Madness (1995)', 'Friday (1995)',\n",
              "       'House Arrest (1996)', 'Dracula: Dead and Loving It (1995)', 'Two if by Sea (1996)', 'Smile Like Yours, A (1997)', 'Judgment Night (1993)', 'Naked (1993)', 'Meet John Doe (1941)',\n",
              "       'Keys to Tulsa (1997)', 'Portrait of a Lady, The (1996)', 'Fearless (1993)', 'Apple Dumpling Gang, The (1975)', 'Girl 6 (1996)', 'Relic, The (1997)',\n",
              "       'Halloween: The Curse of Michael Myers (1995)', 'Fools Rush In (1997)', 'Queen Margot (Reine Margot, La) (1994)', 'Now and Then (1995)', 'Lord of Illusions (1995)',\n",
              "       \"Microcosmos: Le peuple de l'herbe (1996)\", 'House of the Spirits, The (1993)', 'Garden of Finzi-Contini, The (Giardino dei Finzi-Contini, Il) (1970)', 'Cry, the Beloved Country (1995)',\n",
              "       'Grease 2 (1982)', 'Houseguest (1994)', 'Burnt By the Sun (1994)', 'Drop Dead Fred (1991)', 'Cemetery Man (Dellamorte Dellamore) (1994)', 'Mr. Wrong (1996)', 'Trial and Error (1997)',\n",
              "       'Kansas City (1996)', 'Fog, The (1980)', 'Inventing the Abbotts (1997)', 'Showgirls (1995)', 'Live Nude Girls (1995)', 'Jude (1996)', 'Ruby in Paradise (1993)', 'Turbulence (1997)',\n",
              "       'Until the End of the World (Bis ans Ende der Welt) (1991)', 'Bogus (1996)', 'Three Caballeros, The (1945)', 'Pallbearer, The (1996)', 'Oliver & Company (1988)', 'Marked for Death (1990)',\n",
              "       'Unstrung Heroes (1995)', 'Double vie de Véronique, La (Double Life of Veronique, The) (1991)', 'Welcome To Sarajevo (1997)', 'Mother Night (1996)', \"Kid in King Arthur's Court, A (1995)\",\n",
              "       'Little Buddha (1993)', 'Kama Sutra: A Tale of Love (1996)', 'Blood & Wine (1997)', 'Mrs. Winterbourne (1996)', 'Mrs. Parker and the Vicious Circle (1994)', 'Body Snatcher, The (1945)',\n",
              "       'Village of the Damned (1995)', 'Oscar & Lucinda (1997)', 'Anne Frank Remembered (1995)', 'Umbrellas of Cherbourg, The (Parapluies de Cherbourg, Les) (1964)', 'How to Be a Player (1997)',\n",
              "       'Lawnmower Man 2: Beyond Cyberspace (1996)', 'Funny Face (1957)', 'Top Hat (1935)', 'Funeral, The (1996)', 'My Family (1995)', 'Misérables, Les (1995)',\n",
              "       'Candyman: Farewell to the Flesh (1995)', \"It's My Party (1995)\", 'Richie Rich (1994)', 'Prophecy II, The (1998)', 'Maximum Risk (1996)', 'Kiss of Death (1995)',\n",
              "       'Paradise Lost: The Child Murders at Robin Hood Hills (1996)', 'For Whom the Bell Tolls (1943)', 'Half Baked (1998)', 'Indian Summer (1996)', 'Ma vie en rose (My Life in Pink) (1997)',\n",
              "       'Beverly Hillbillies, The (1993)', 'Goofy Movie, A (1995)', 'Specialist, The (1994)', 'Flipper (1996)', 'Home Alone 3 (1997)', \"Widows' Peak (1994)\",\n",
              "       'Children of the Corn: The Gathering (1996)', \"Gridlock'd (1997)\", 'Backbeat (1993)', 'Fatal Instinct (1993)', 'Amos & Andrew (1993)', 'Set It Off (1996)', 'D3: The Mighty Ducks (1996)',\n",
              "       'Blink (1994)', 'Surviving Picasso (1996)', 'Star Maps (1997)', 'Steel (1997)', 'Major Payne (1994)', 'Cowboy Way, The (1994)', 'Trust (1990)', 'That Darn Cat! (1965)', 'Out to Sea (1997)',\n",
              "       'Beyond Rangoon (1995)', 'M. Butterfly (1993)', 'Andre (1994)', 'Amateur (1994)', 'Hellraiser: Bloodline (1996)', 'Hate (Haine, La) (1995)', 'Afterglow (1997)', 'Firestorm (1998)',\n",
              "       'Picnic (1955)', 'Inspector General, The (1949)', 'Thirty-Two Short Films About Glenn Gould (1993)', 'Dead Presidents (1995)', 'Blue Angel, The (Blaue Engel, Der) (1930)',\n",
              "       'Ready to Wear (Pret-A-Porter) (1994)', 'Getaway, The (1994)', 'Lost in Space (1998)', \"Robert A. Heinlein's The Puppet Masters (1994)\", 'Little Rascals, The (1994)',\n",
              "       'To Be or Not to Be (1942)', 'In the Army Now (1994)', 'Jingle All the Way (1996)', 'Assignment, The (1997)', 'House of Yes, The (1997)', 'Cutthroat Island (1995)',\n",
              "       'Road to Wellville, The (1994)', 'Shall We Dance? (1937)', 'Stupids, The (1996)', \"I'm Not Rappaport (1996)\", 'Madonna: Truth or Dare (1991)', 'Mute Witness (1994)', 'Switchback (1997)',\n",
              "       'Big Blue, The (Grand bleu, Le) (1988)', 'Farinelli: il castrato (1994)', 'Jade (1995)', 'Believers, The (1987)', 'Air Up There, The (1994)',\n",
              "       'When the Cats Away (Chacun cherche son chat) (1996)', 'Little Big League (1994)', 'Dark City (1998)', 'Stuart Saves His Family (1995)', 'Cabin Boy (1994)', 'Waiting to Exhale (1995)',\n",
              "       'Ruling Class, The (1972)', 'Gang Related (1997)', 'Exit to Eden (1994)', 'Bad Taste (1987)', 'Selena (1997)', 'In the Bleak Midwinter (1995)', 'Party Girl (1995)',\n",
              "       'Highlander III: The Sorcerer (1994)', 'Bastard Out of Carolina (1996)'], dtype=object)"
            ]
          },
          "metadata": {},
          "execution_count": 34
        }
      ]
    },
    {
      "cell_type": "markdown",
      "metadata": {
        "id": "C9jlveMr2-71"
      },
      "source": [
        "Let's observe our data. Using `w.shape`, we can observe the shape of our model output. As you can see below our output contains 1000 rows of data and 50 columns.\n",
        "\n",
        "The 1000 rows correspond to the 1000 most rated movies while the 50 columns correspond to 50 latent factors that we have set during in our `Learner` using `n_factors=50`. Note that after model training, these latent factors actually hold significance."
      ]
    },
    {
      "cell_type": "code",
      "metadata": {
        "colab": {
          "base_uri": "https://localhost:8080/"
        },
        "id": "pxLFywh-NJ3V",
        "outputId": "845a3dbe-cfcf-4bf5-d655-4211cfada4fb"
      },
      "source": [
        "movie_w = learn.model.weight(top_movies)\n",
        "movie_w.shape"
      ],
      "execution_count": null,
      "outputs": [
        {
          "output_type": "execute_result",
          "data": {
            "text/plain": [
              "torch.Size([1000, 50])"
            ]
          },
          "metadata": {},
          "execution_count": 35
        }
      ]
    },
    {
      "cell_type": "markdown",
      "metadata": {
        "id": "M45t3gpR7Z22"
      },
      "source": [
        "Working with 50 latent factors and therefore 50 dimensions makes it very difficult for us to interpret the latent factors and embeddings. Let's reduce the number of dimensions down from 50D to 2D just like it was visualised in the image above, when we discussed embeddings.\n",
        "\n",
        "Now we only have 2 columns, while still have 1000 rows (most rated movies)."
      ]
    },
    {
      "cell_type": "code",
      "metadata": {
        "colab": {
          "base_uri": "https://localhost:8080/"
        },
        "id": "oS5pUQwaNNgo",
        "cellView": "form",
        "outputId": "a13248fd-eab5-4646-e56e-ac9600bed03d"
      },
      "source": [
        "#@title Dimensionality Reduction\n",
        "movie_pca = movie_w.pca(2)\n",
        "fac0,fac1 = movie_pca.t()\n",
        "movie_comp = [(f, i) for f,i in zip(fac0, top_movies)]\n",
        "movie_pca.shape"
      ],
      "execution_count": null,
      "outputs": [
        {
          "output_type": "execute_result",
          "data": {
            "text/plain": [
              "torch.Size([1000, 2])"
            ]
          },
          "metadata": {},
          "execution_count": 36
        }
      ]
    },
    {
      "cell_type": "markdown",
      "metadata": {
        "id": "MtkrPsUjCso-"
      },
      "source": [
        "Let's list the top 10 movies with the highest score on the first dimension.\n",
        "\n",
        "For someone who has watched all movies, we can confidently assume that we will see a strong similarity between all 10 movies in one given category."
      ]
    },
    {
      "cell_type": "code",
      "metadata": {
        "colab": {
          "base_uri": "https://localhost:8080/"
        },
        "id": "Mvjx2lhRNTqd",
        "cellView": "form",
        "outputId": "968c294d-0c0c-4b62-b1fd-021eff03259c"
      },
      "source": [
        "#@title Top 10 with the highest score on the first dimension.\n",
        "sorted(movie_comp, key=itemgetter(0), reverse=True)[:10]"
      ],
      "execution_count": null,
      "outputs": [
        {
          "output_type": "execute_result",
          "data": {
            "text/plain": [
              "[(tensor(1.4946), 'Children of the Corn: The Gathering (1996)'),\n",
              " (tensor(1.4049), 'Leave It to Beaver (1997)'),\n",
              " (tensor(1.2936), 'Grease 2 (1982)'),\n",
              " (tensor(1.2473), 'Free Willy 3: The Rescue (1997)'),\n",
              " (tensor(1.2175), \"McHale's Navy (1997)\"),\n",
              " (tensor(1.2015), 'Home Alone 3 (1997)'),\n",
              " (tensor(1.1560), 'Mortal Kombat: Annihilation (1997)'),\n",
              " (tensor(1.1455), 'Lawnmower Man 2: Beyond Cyberspace (1996)'),\n",
              " (tensor(1.1433), 'Barb Wire (1996)'),\n",
              " (tensor(1.1043), 'Crow: City of Angels, The (1996)')]"
            ]
          },
          "metadata": {},
          "execution_count": 37
        }
      ]
    },
    {
      "cell_type": "markdown",
      "metadata": {
        "id": "HThVFtXiDGko"
      },
      "source": [
        "And now the bottom 10 with the lowest score for the first dimension.\n",
        "\n",
        "For someone who has watched all movies, we can also confidently assume that the movies below share a strong similarity in a given category.\n",
        "\n",
        "Moreover, we can say, that the 10 movies below, are opposite to the movies above on the first dimension. "
      ]
    },
    {
      "cell_type": "code",
      "metadata": {
        "colab": {
          "base_uri": "https://localhost:8080/"
        },
        "id": "xOC2XYEsNWDj",
        "cellView": "form",
        "outputId": "2155dc61-2b4e-472b-8fbc-fc9752355a75"
      },
      "source": [
        "#@title Top 10 with the lowest score on the first dimension.\n",
        "sorted(movie_comp, key=itemgetter(0))[:10]"
      ],
      "execution_count": null,
      "outputs": [
        {
          "output_type": "execute_result",
          "data": {
            "text/plain": [
              "[(tensor(-1.3425), 'Wrong Trousers, The (1993)'),\n",
              " (tensor(-1.2766), 'Close Shave, A (1995)'),\n",
              " (tensor(-1.2440), 'Casablanca (1942)'),\n",
              " (tensor(-1.1895), \"Schindler's List (1993)\"),\n",
              " (tensor(-1.1191), 'Shawshank Redemption, The (1994)'),\n",
              " (tensor(-1.0703), 'Usual Suspects, The (1995)'),\n",
              " (tensor(-1.0613), 'Wallace & Gromit: The Best of Aardman Animation (1996)'),\n",
              " (tensor(-1.0121), 'Good Will Hunting (1997)'),\n",
              " (tensor(-0.9961), 'Some Folks Call It a Sling Blade (1993)'),\n",
              " (tensor(-0.9799), 'Lawrence of Arabia (1962)')]"
            ]
          },
          "metadata": {},
          "execution_count": 38
        }
      ]
    },
    {
      "cell_type": "markdown",
      "metadata": {
        "id": "8NvAPpvmEEfg"
      },
      "source": [
        "Let's do the same for our second dimension:"
      ]
    },
    {
      "cell_type": "code",
      "metadata": {
        "colab": {
          "base_uri": "https://localhost:8080/"
        },
        "id": "peC7HZeoNc2e",
        "cellView": "form",
        "outputId": "3f37c996-d9ad-4e45-b17c-9fde1e34692c"
      },
      "source": [
        "#@title Top 10 with the highest score on the second dimension.\n",
        "movie_comp = [(f, i) for f,i in zip(fac1, top_movies)]\n",
        "sorted(movie_comp, key=itemgetter(0), reverse=True)[:10]"
      ],
      "execution_count": null,
      "outputs": [
        {
          "output_type": "execute_result",
          "data": {
            "text/plain": [
              "[(tensor(0.7903), 'Independence Day (ID4) (1996)'),\n",
              " (tensor(0.7367), 'Back to the Future (1985)'),\n",
              " (tensor(0.6333), 'Rock, The (1996)'),\n",
              " (tensor(0.6248), 'Jurassic Park (1993)'),\n",
              " (tensor(0.6239), 'Raiders of the Lost Ark (1981)'),\n",
              " (tensor(0.6129), 'American President, The (1995)'),\n",
              " (tensor(0.6097), 'Indiana Jones and the Last Crusade (1989)'),\n",
              " (tensor(0.6034), 'Braveheart (1995)'),\n",
              " (tensor(0.5905), 'True Lies (1994)'),\n",
              " (tensor(0.5692), 'Fugitive, The (1993)')]"
            ]
          },
          "metadata": {},
          "execution_count": 39
        }
      ]
    },
    {
      "cell_type": "markdown",
      "metadata": {
        "id": "n8DaJKKiEpXh"
      },
      "source": [
        "Bottom 10:"
      ]
    },
    {
      "cell_type": "code",
      "metadata": {
        "colab": {
          "base_uri": "https://localhost:8080/"
        },
        "id": "ToufjpUTNfGO",
        "cellView": "form",
        "outputId": "1ed6798c-86bb-4aa1-de3a-7b6f23bc11b3"
      },
      "source": [
        "#@title Top 10 with the lowest score on the second dimension.\n",
        "sorted(movie_comp, key=itemgetter(0))[:10]"
      ],
      "execution_count": null,
      "outputs": [
        {
          "output_type": "execute_result",
          "data": {
            "text/plain": [
              "[(tensor(-0.5644), 'Leaving Las Vegas (1995)'),\n",
              " (tensor(-0.5522), 'Clockwork Orange, A (1971)'),\n",
              " (tensor(-0.5029), 'Taxi Driver (1976)'),\n",
              " (tensor(-0.4808), 'Fargo (1996)'),\n",
              " (tensor(-0.4777), 'Trainspotting (1996)'),\n",
              " (tensor(-0.4639), 'Pulp Fiction (1994)'),\n",
              " (tensor(-0.4496), 'Cable Guy, The (1996)'),\n",
              " (tensor(-0.4359),\n",
              "  'Dr. Strangelove or: How I Learned to Stop Worrying and Love the Bomb (1963)'),\n",
              " (tensor(-0.4329), 'Godfather, The (1972)'),\n",
              " (tensor(-0.4295), 'Raising Arizona (1987)')]"
            ]
          },
          "metadata": {},
          "execution_count": 40
        }
      ]
    },
    {
      "cell_type": "markdown",
      "metadata": {
        "id": "5_y2h3fLEx3U"
      },
      "source": [
        "And we can even plot the movies according to their scores on those 2 dimensions. For that we randomly select a subset of 50 movies to keep it visually pleasing for us. The first dimension is presented via the x-axis, and the second dimension via the y-axis. What similarities can you see? Can you try to guess how the movies are grouped?\n",
        "\n",
        "If you cannot find any, do not worry. This could be due to us simply reducing dimensionality down from 50 to 2. Moreover, this is also one of the limitations of Machine Learning. Humans are barely able to comprehend how the model trains and what patterns he finds: this negatively impacts the explainability of AI."
      ]
    },
    {
      "cell_type": "code",
      "metadata": {
        "colab": {
          "base_uri": "https://localhost:8080/",
          "height": 866
        },
        "id": "xZdMLj-mNi6r",
        "cellView": "form",
        "outputId": "6a3388e0-eb21-44b2-d897-e3e4acf94d3a"
      },
      "source": [
        "#@title Embedding space of a subset of 50 movies.\n",
        "idxs = np.random.choice(len(top_movies), 50, replace=False)\n",
        "idxs = list(range(50))\n",
        "X = fac0[idxs]\n",
        "Y = fac1[idxs]\n",
        "plt.figure(figsize=(15,15))\n",
        "plt.scatter(X, Y)\n",
        "for i, x, y in zip(top_movies[idxs], X, Y):\n",
        "    plt.text(x,y,i, color=np.random.rand(3)*0.7, fontsize=11)\n",
        "plt.show()"
      ],
      "execution_count": null,
      "outputs": [
        {
          "output_type": "display_data",
          "data": {
            "image/png": "[encoded data removed]",
            "text/plain": [
              "<Figure size 1080x1080 with 1 Axes>"
            ]
          },
          "metadata": {
            "needs_background": "light"
          }
        }
      ]
    },
    {
      "cell_type": "markdown",
      "metadata": {
        "id": "RzK97kYv6xxt"
      },
      "source": [
        "### Use the model to find similar movies to provide recommendations"
      ]
    },
    {
      "cell_type": "markdown",
      "metadata": {
        "id": "6k5BoM1_67E5"
      },
      "source": [
        "Even in a 50 dimensional space like we have worked with above, we can calculate the closest neighbors of an embedding. If there were two movies that were nearly identical, then their embeddings would also have to be nearly identical, because the users that would like them would be nearly exactly the same. There is a more general idea here: movie similarity can be defined by the similarity of users that like those movies. And that directly means that the distance between two movies' embeddings can define that similarity. We can use this to find the 5 most similar movie to *Silence of the Lambs*.\n",
        "\n",
        "This is a powerful recommendation technique. Lets try it out below. Also feel free to change the name of the target movie (i.e. *Silence of the Lambs*) to find the closest neighbor and a possible recommendation for yourself."
      ]
    },
    {
      "cell_type": "code",
      "metadata": {
        "id": "H60tYAISx40q"
      },
      "source": [
        "movie = 'Silence of the Lambs, The (1991)'"
      ],
      "execution_count": null,
      "outputs": []
    },
    {
      "cell_type": "code",
      "metadata": {
        "colab": {
          "base_uri": "https://localhost:8080/"
        },
        "id": "rDKmkBQH6zIV",
        "cellView": "form",
        "outputId": "327f79df-968e-4a6b-8ff3-330ff73c94ae"
      },
      "source": [
        "#@title Top 5 most similar movies of target movie above.\n",
        "movie_factors = learn.model.i_weight.weight\n",
        "idx = dls.classes['title'].o2i[movie]\n",
        "distances = nn.CosineSimilarity(dim=1)(movie_factors, movie_factors[idx][None])\n",
        "idx = distances.argsort(descending=True)[1:6]\n",
        "dls.classes['title'][idx]"
      ],
      "execution_count": null,
      "outputs": [
        {
          "output_type": "execute_result",
          "data": {
            "text/plain": [
              "(#5) ['You So Crazy (1994)','Old Man and the Sea, The (1958)','Farewell to Arms, A (1932)','Wedding Gift, The (1994)','Prefontaine (1997)']"
            ]
          },
          "metadata": {},
          "execution_count": 47
        }
      ]
    },
    {
      "cell_type": "markdown",
      "metadata": {
        "id": "vBUSsPeC-Y5E"
      },
      "source": [
        "Lets try the same for a more popular sci-fi movie such as *Star Wars (1977)*. You can see that we recommend other movies part of the Star Wars universe."
      ]
    },
    {
      "cell_type": "code",
      "metadata": {
        "id": "n0gTq902yB3w"
      },
      "source": [
        "movie = 'Star Wars (1977)'"
      ],
      "execution_count": null,
      "outputs": []
    },
    {
      "cell_type": "code",
      "metadata": {
        "colab": {
          "base_uri": "https://localhost:8080/"
        },
        "id": "GIM7T_qH-uN-",
        "cellView": "form",
        "outputId": "5d0b326e-7275-4c58-ca3e-807d8c571ad8"
      },
      "source": [
        "#@title Top 5 most similar movies of target movie above.\n",
        "movie_factors = learn.model.i_weight.weight\n",
        "idx = dls.classes['title'].o2i[movie]\n",
        "distances = nn.CosineSimilarity(dim=1)(movie_factors, movie_factors[idx][None])\n",
        "idx = distances.argsort(descending=True)[1:6]\n",
        "dls.classes['title'][idx]"
      ],
      "execution_count": null,
      "outputs": [
        {
          "output_type": "execute_result",
          "data": {
            "text/plain": [
              "(#5) ['Empire Strikes Back, The (1980)','Return of the Jedi (1983)','Raiders of the Lost Ark (1981)','Princess Bride, The (1987)','Man Who Would Be King, The (1975)']"
            ]
          },
          "metadata": {},
          "execution_count": 45
        }
      ]
    },
    {
      "cell_type": "markdown",
      "metadata": {
        "id": "WwB6uDUTBoQ3"
      },
      "source": [
        "We now build an entire collaborative filtering model, and jointly learned about latent factors and embeddings. We understood how powerful they and the relationships and patterns they can uncover.\n",
        "\n",
        "You are well prepared to work on your own collaborative filtering model."
      ]
    },
    {
      "cell_type": "markdown",
      "metadata": {
        "id": "8I7HYXX_0YGs"
      },
      "source": [
        "# Your Deliverables, your time to apply the theory in practice.\n",
        "\n",
        "Congratulations on getting to the end of this Notebook and no worries at all if you struggled with some of the theory and did not fully understand what was taught here as your actual learning starts from here.\n",
        "\n",
        "The ideal time of reading this, is right before the Review Session, so you have a bit of time to reflect about the learning material, identify the most confusing and hard elements of a reading, and bring them to the discussion during the Review Session with the Mentors. The Review Session is there for you to close the gap in your current understanding of the material.\n",
        "\n",
        "For your deliverables you will have to work on a seperate Notebook."
      ]
    },
    {
      "cell_type": "markdown",
      "metadata": {
        "id": "MtfbfBmPghxY"
      },
      "source": [
        "---\n",
        "*Note: this notebook has is adapted from fastai's notebook 08_collab.ipynb \n",
        "simplified to give an overview of collaborative learning.*\n",
        "\n",
        "##### Other sources: \n",
        "* https://towardsdatascience.com/introduction-to-recommender-systems-6c66cf15ada\n",
        "*https://towardsdatascience.com/collaborative-filtering-using-fastai-a2ec5a2a4049\n",
        "*https://towardsdatascience.com/introduction-to-latent-matrix-factorization-recommender-systems-8dfc63b94875\n",
        "*https://towardsdatascience.com/evaluation-metrics-for-recommender-systems-df56c6611093\n",
        "*https://towardsdatascience.com/deep-latent-variable-models-unravel-hidden-structures-a5df0fd32ae2\n",
        "---\n",
        "\n"
      ]
    }
  ]
}